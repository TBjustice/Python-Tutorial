{
 "cells": [
  {
   "cell_type": "markdown",
   "id": "8d2b1485",
   "metadata": {},
   "source": [
    "## Quiz1\n",
    "This is a Quiz. Please write a suitable program according to the instructions. You may see the tutorials or search on the Internet."
   ]
  },
  {
   "cell_type": "markdown",
   "id": "977f8dc5",
   "metadata": {},
   "source": [
    "Create a variable called ```original``` and initialize it with whatever value you choose. (e.g. -321012.34)"
   ]
  },
  {
   "cell_type": "code",
   "execution_count": 45,
   "id": "90a47ef6",
   "metadata": {},
   "outputs": [],
   "source": [
    "original=-321012.34"
   ]
  },
  {
   "cell_type": "markdown",
   "id": "3f826923",
   "metadata": {},
   "source": [
    "Print **\"The value inside original is ○○\"**.<br>\n",
    "When printing, concatenate the string \"The value inside original is \" and ```original```. Note that in order to concatenate string and float, you must firstly convert ```original``` to string.<br>\n",
    "(Results will be like→The value inside original is -321012.34)"
   ]
  },
  {
   "cell_type": "code",
   "execution_count": 46,
   "id": "0aab1215",
   "metadata": {},
   "outputs": [
    {
     "name": "stdout",
     "output_type": "stream",
     "text": [
      "The value inside original is -321012.34\n"
     ]
    }
   ],
   "source": [
    "print(\"The value inside original is \" + str(original))"
   ]
  },
  {
   "cell_type": "markdown",
   "id": "b5ce0a8b",
   "metadata": {},
   "source": [
    "Next, write if-else statement.  \n",
    "```python\n",
    "if(CONDITION):\n",
    "    #Create the variable called \"number\" and initialize it with original\n",
    "else:\n",
    "    #Create the variable called \"number\" and initialize it with -original\n",
    "```\n",
    ">Repleace CONDITION with the program meaning \"Is original a positive value?\".  \n",
    ">Repleace \"#Create the variable......\" with the code."
   ]
  },
  {
   "cell_type": "code",
   "execution_count": 47,
   "id": "7f63134a",
   "metadata": {},
   "outputs": [],
   "source": [
    "if(original > 0):\n",
    "    number=original\n",
    "else:\n",
    "    number=-original"
   ]
  },
  {
   "cell_type": "markdown",
   "id": "67f31305",
   "metadata": {},
   "source": [
    "Print the ```number```. It must be bigger than or equal to 0.<br>\n",
    "(Results will be like→321012.34)"
   ]
  },
  {
   "cell_type": "code",
   "execution_count": 48,
   "id": "871172d9",
   "metadata": {},
   "outputs": [
    {
     "name": "stdout",
     "output_type": "stream",
     "text": [
      "321012.34\n"
     ]
    }
   ],
   "source": [
    "print(number)"
   ]
  },
  {
   "cell_type": "markdown",
   "id": "abfdc023",
   "metadata": {},
   "source": [
    "Next, overwrite ```number``` with \\\"```number``` rounded down to the nearest decimal\\\".<br>\n",
    "This can be done by casting float to integer. (Just like you cast string to integer)"
   ]
  },
  {
   "cell_type": "code",
   "execution_count": 49,
   "id": "bb873a4c",
   "metadata": {},
   "outputs": [],
   "source": [
    "number=int(number)"
   ]
  },
  {
   "cell_type": "markdown",
   "id": "a14245a1",
   "metadata": {},
   "source": [
    "Print the number. It must be rounded down to the nearest decimal<br>\n",
    "(Results will be like→321012)"
   ]
  },
  {
   "cell_type": "code",
   "execution_count": 50,
   "id": "4fa6c01c",
   "metadata": {},
   "outputs": [
    {
     "name": "stdout",
     "output_type": "stream",
     "text": [
      "321012\n"
     ]
    }
   ],
   "source": [
    "print(number)"
   ]
  },
  {
   "cell_type": "markdown",
   "id": "1a7c1d1c",
   "metadata": {},
   "source": [
    "Print the type of ```number```. It must be <class 'int'>."
   ]
  },
  {
   "cell_type": "code",
   "execution_count": 51,
   "id": "cbac9fe3",
   "metadata": {},
   "outputs": [
    {
     "name": "stdout",
     "output_type": "stream",
     "text": [
      "<class 'int'>\n"
     ]
    }
   ],
   "source": [
    "print(type(number))"
   ]
  },
  {
   "cell_type": "markdown",
   "id": "86df44dd",
   "metadata": {},
   "source": [
    "Next, overwrite number with \"```number```\\'s last three digits\", and print it.  \n",
    "This can be done by calculating the reminder of number÷1000.  <br>\n",
    "(Results will be like→12)"
   ]
  },
  {
   "cell_type": "code",
   "execution_count": 52,
   "id": "b9e20daa",
   "metadata": {},
   "outputs": [
    {
     "name": "stdout",
     "output_type": "stream",
     "text": [
      "12\n"
     ]
    }
   ],
   "source": [
    "number%=1000\n",
    "print(number)"
   ]
  },
  {
   "cell_type": "markdown",
   "id": "fd65c915",
   "metadata": {},
   "source": [
    "Next, write if statement.  \n",
    "```python\n",
    "if(CONDITION):\n",
    "    #Add 100 to number\n",
    "```\n",
    ">Repleace CONDITION with the program meaning \"is the ```number``` less than 100?\".  \n",
    ">Repleace \"#Add 100 to number\" with the code."
   ]
  },
  {
   "cell_type": "code",
   "execution_count": 53,
   "id": "f1aeb16b",
   "metadata": {},
   "outputs": [],
   "source": [
    "if(number<100):\n",
    "    number+=100"
   ]
  },
  {
   "cell_type": "markdown",
   "id": "57ed55fd",
   "metadata": {},
   "source": [
    "Print the number.<br>\n",
    "(Results will be like→112)"
   ]
  },
  {
   "cell_type": "code",
   "execution_count": 54,
   "id": "5e47e8a8",
   "metadata": {},
   "outputs": [
    {
     "name": "stdout",
     "output_type": "stream",
     "text": [
      "112\n"
     ]
    }
   ],
   "source": [
    "print(number)"
   ]
  },
  {
   "cell_type": "markdown",
   "id": "545e5fd8",
   "metadata": {},
   "source": [
    "Create a **string variable** called ```text``` and initialize it with ```number```. Remember to cast int to string."
   ]
  },
  {
   "cell_type": "code",
   "execution_count": 55,
   "id": "463677d6",
   "metadata": {},
   "outputs": [],
   "source": [
    "text=str(number)"
   ]
  },
  {
   "cell_type": "markdown",
   "id": "fce3b209",
   "metadata": {},
   "source": [
    "Print the type of ```text```. It must be <class 'str'>."
   ]
  },
  {
   "cell_type": "code",
   "execution_count": 56,
   "id": "9c2140a5",
   "metadata": {},
   "outputs": [
    {
     "name": "stdout",
     "output_type": "stream",
     "text": [
      "<class 'str'>\n"
     ]
    }
   ],
   "source": [
    "print(type(text))"
   ]
  },
  {
   "cell_type": "markdown",
   "id": "faa89e2c",
   "metadata": {},
   "source": [
    "Create a **string variable** called ```text2``` and initialize it with ```text*2```. Print ```text2```.<br>\n",
    "(Results will be like→112112)"
   ]
  },
  {
   "cell_type": "code",
   "execution_count": 57,
   "id": "c1017ed4",
   "metadata": {},
   "outputs": [
    {
     "name": "stdout",
     "output_type": "stream",
     "text": [
      "112112\n"
     ]
    }
   ],
   "source": [
    "text2=text*2\n",
    "print(text2)"
   ]
  },
  {
   "cell_type": "markdown",
   "id": "2579c8fa",
   "metadata": {},
   "source": [
    "Create an **integer variable** called ```number2``` and initialize it with ```text2```. Remember to cast string to int.  \n",
    "After that, print the type of ```number2```. The result must be <class 'int'>"
   ]
  },
  {
   "cell_type": "code",
   "execution_count": 58,
   "id": "41a99f7c",
   "metadata": {},
   "outputs": [
    {
     "name": "stdout",
     "output_type": "stream",
     "text": [
      "<class 'int'>\n"
     ]
    }
   ],
   "source": [
    "number2=int(text2)\n",
    "print(type(number2))"
   ]
  },
  {
   "cell_type": "markdown",
   "id": "c62e3cc0",
   "metadata": {},
   "source": [
    "Divide and assign ```number2``` with 7 and print it.<br>\n",
    "(Results will be like→16016.0)"
   ]
  },
  {
   "cell_type": "code",
   "execution_count": 59,
   "id": "2758955c",
   "metadata": {},
   "outputs": [
    {
     "name": "stdout",
     "output_type": "stream",
     "text": [
      "16016.0\n"
     ]
    }
   ],
   "source": [
    "number2/=7\n",
    "print(number2)"
   ]
  },
  {
   "cell_type": "markdown",
   "id": "c7a0fc06",
   "metadata": {},
   "source": [
    "Divide and assign ```number2``` with 11 and print it.<br>\n",
    "(Results will be like→1456.0)"
   ]
  },
  {
   "cell_type": "code",
   "execution_count": 60,
   "id": "9b11b1ac",
   "metadata": {
    "scrolled": true
   },
   "outputs": [
    {
     "name": "stdout",
     "output_type": "stream",
     "text": [
      "1456.0\n"
     ]
    }
   ],
   "source": [
    "number2/=11\n",
    "print(number2)"
   ]
  },
  {
   "cell_type": "markdown",
   "id": "02d1fa88",
   "metadata": {},
   "source": [
    "Divide and assign ```number2``` with 13 and print it.<br>\n",
    "(Results will be like→112)"
   ]
  },
  {
   "cell_type": "code",
   "execution_count": 61,
   "id": "db2d4d69",
   "metadata": {},
   "outputs": [
    {
     "name": "stdout",
     "output_type": "stream",
     "text": [
      "112.0\n"
     ]
    }
   ],
   "source": [
    "number2/=13\n",
    "print(number2)"
   ]
  },
  {
   "cell_type": "markdown",
   "id": "a712d04d",
   "metadata": {},
   "source": [
    "Finally, run the following code.\n",
    "```python\n",
    "print(number==number2)\n",
    "```\n",
    "If \"True\" is printed, you are all done!"
   ]
  },
  {
   "cell_type": "code",
   "execution_count": 62,
   "id": "57d6cde0",
   "metadata": {},
   "outputs": [
    {
     "name": "stdout",
     "output_type": "stream",
     "text": [
      "True\n"
     ]
    }
   ],
   "source": [
    "print(number==number2)"
   ]
  },
  {
   "cell_type": "code",
   "execution_count": null,
   "id": "005853a9",
   "metadata": {},
   "outputs": [],
   "source": []
  }
 ],
 "metadata": {
  "kernelspec": {
   "display_name": "Python 3 (ipykernel)",
   "language": "python",
   "name": "python3"
  },
  "language_info": {
   "codemirror_mode": {
    "name": "ipython",
    "version": 3
   },
   "file_extension": ".py",
   "mimetype": "text/x-python",
   "name": "python",
   "nbconvert_exporter": "python",
   "pygments_lexer": "ipython3",
   "version": "3.7.9"
  }
 },
 "nbformat": 4,
 "nbformat_minor": 5
}
