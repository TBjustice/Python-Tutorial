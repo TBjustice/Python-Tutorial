{
 "cells": [
  {
   "cell_type": "markdown",
   "metadata": {
    "id": "HVQaxhzWYOpv"
   },
   "source": [
    "# Fundamentals of Python\n",
    "## Hello World!\n",
    "Program. It is the tool to provide the command to computers. We enter what we want computers to do, and computers executes the calculation.  \n",
    " Modern computers can do many things. Not only can they calculate some formula, but they can also draw graphs, process image, and learn somethig with neural network. This means that engineers should know how to tell computers to do so.  \n",
    " In the early days, learning programming is the process of memorizing the syntax, and understand how to make use of them. But now, as there are too many commands to use, we cannot memorize all things. What the modern engineers should do is not memorizing, but understand how to google it.  \n",
    " <br>\n",
    " First, let's do a \"customary event\" of start learning programming. Enter the program below.  \n",
    "```python\n",
    "print(\"Hello World\")\n",
    "```\n",
    " Execute this command by clicking the button \"▷\" or type \"Shift + Enter\".\n"
   ]
  },
  {
   "cell_type": "code",
   "execution_count": 1,
   "metadata": {
    "colab": {
     "base_uri": "https://localhost:8080/"
    },
    "id": "dBd_BUAeYIxJ",
    "outputId": "41f03990-d2d1-4f63-d4c8-0f2c081feaaf"
   },
   "outputs": [
    {
     "name": "stdout",
     "output_type": "stream",
     "text": [
      "Hello World\n"
     ]
    }
   ],
   "source": [
    "print(\"Hello World\")"
   ]
  },
  {
   "cell_type": "markdown",
   "metadata": {
    "id": "H70DAQ6llcGi"
   },
   "source": [
    " Good. Now you can make your computer say \"Hello World.\"  \n",
    " What you write now is actually very important. After some calculation, we want computers to show us the result. The simplest way to show the result is the \"standard output\", which you have just done.  \n",
    " In the next chapter, you learn how to write simple calculation like four arithmetic operations, and each time, you will check whether the calclation succeed or not using the command ```print```."
   ]
  },
  {
   "cell_type": "markdown",
   "metadata": {},
   "source": [
    "## Operators in Python\n",
    " In this section, you will learn operators. Operators are sets of symbols denoting an operation(e.g. +, -, <, >). \n",
    " First, enter the program below.  \n",
    "\n",
    "```python\n",
    "print(7+3)\n",
    "print(7-3)\n",
    "print(7*3)\n",
    "print(7/3)\n",
    "print(7%3)\n",
    "print(7//3)\n",
    "\n",
    "print(7**3)\n",
    "```"
   ]
  },
  {
   "cell_type": "code",
   "execution_count": 2,
   "metadata": {
    "id": "ib6_iVUulCk9"
   },
   "outputs": [
    {
     "name": "stdout",
     "output_type": "stream",
     "text": [
      "10\n",
      "4\n",
      "21\n",
      "2.3333333333333335\n",
      "2\n",
      "1\n"
     ]
    }
   ],
   "source": [
    "print(7+3)\n",
    "print(7-3)\n",
    "print(7*3)\n",
    "print(7/3)\n",
    "print(7//3)\n",
    "print(7%3)"
   ]
  },
  {
   "cell_type": "code",
   "execution_count": 3,
   "metadata": {},
   "outputs": [
    {
     "name": "stdout",
     "output_type": "stream",
     "text": [
      "343\n"
     ]
    }
   ],
   "source": [
    "print(7**3)"
   ]
  },
  {
   "cell_type": "markdown",
   "metadata": {},
   "source": [
    " In python, ```+``` represents addition, ```-``` represents subtraction, ```*``` represents multiplication, and ```/``` represents division. Note that the result of ```/``` is a float value.(float value≒Decimal) If you want to calculate quotient and remainder, use ```//``` and ```%``` respectively.  \n",
    " When you calculate the power, the operator to use is ```**```. (```a**b``` means $a^b$)  \n",
    " Next, run the following program.\n",
    "\n",
    "```python\n",
    "print(7==3)\n",
    "print(3==3)\n",
    "print(7!=3)\n",
    "print(3!=3)\n",
    "\n",
    "print(7>3)\n",
    "print(3>3)\n",
    "print(7>=3)\n",
    "print(3>=3)\n",
    "\n",
    "print(7<3)\n",
    "print(3<3)\n",
    "print(7<=3)\n",
    "print(3<=3)\n",
    "```"
   ]
  },
  {
   "cell_type": "code",
   "execution_count": 4,
   "metadata": {},
   "outputs": [
    {
     "name": "stdout",
     "output_type": "stream",
     "text": [
      "False\n",
      "True\n",
      "True\n",
      "False\n"
     ]
    }
   ],
   "source": [
    "print(7==3)\n",
    "print(3==3)\n",
    "print(7!=3)\n",
    "print(3!=3)"
   ]
  },
  {
   "cell_type": "code",
   "execution_count": 5,
   "metadata": {},
   "outputs": [
    {
     "name": "stdout",
     "output_type": "stream",
     "text": [
      "True\n",
      "False\n",
      "True\n",
      "True\n"
     ]
    }
   ],
   "source": [
    "print(7>3)\n",
    "print(3>3)\n",
    "print(7>=3)\n",
    "print(3>=3)"
   ]
  },
  {
   "cell_type": "code",
   "execution_count": 6,
   "metadata": {},
   "outputs": [
    {
     "name": "stdout",
     "output_type": "stream",
     "text": [
      "False\n",
      "False\n",
      "False\n",
      "True\n"
     ]
    }
   ],
   "source": [
    "print(7<3)\n",
    "print(3<3)\n",
    "print(7<=3)\n",
    "print(3<=3)"
   ]
  },
  {
   "cell_type": "markdown",
   "metadata": {},
   "source": [
    " The output will be \"True\" or \"False\". Needless to say, \"True\" means that formula is correct, and \"False\" means that the formula is not correct. We call True/False value \"Boolean\".  \n",
    " Note that the operator to assess whether the value is same or not is ```==```, not \"=\". Also, remember that ```!=``` stands for \"≠\".  \n",
    "<br>\n",
    " Next, run the following code.\n",
    " \n",
    "```python\n",
    "print(3<7 and 7<10)\n",
    "print(3<7 and 7<5)\n",
    "print(3<0 and 7<5)\n",
    "\n",
    "print(3<7 or 7<10)\n",
    "print(3<7 or 7<5)\n",
    "print(3<0 or 7<5)\n",
    "```"
   ]
  },
  {
   "cell_type": "code",
   "execution_count": 7,
   "metadata": {
    "scrolled": true
   },
   "outputs": [
    {
     "name": "stdout",
     "output_type": "stream",
     "text": [
      "True\n",
      "False\n",
      "False\n"
     ]
    }
   ],
   "source": [
    "print(3<5 and 3<7)\n",
    "print(3<0 and 3<7)\n",
    "print(3<0 and 3<1)"
   ]
  },
  {
   "cell_type": "code",
   "execution_count": 8,
   "metadata": {},
   "outputs": [
    {
     "name": "stdout",
     "output_type": "stream",
     "text": [
      "True\n",
      "True\n",
      "False\n"
     ]
    }
   ],
   "source": [
    "print(3<7 or 7<10)\n",
    "print(3<7 or 7<5)\n",
    "print(3<0 or 7<5)"
   ]
  },
  {
   "cell_type": "markdown",
   "metadata": {},
   "source": [
    " The keyword ```and```, and ```or``` assess two(or more) boolean value. ```and``` returns True only when both of two values are True. ```or``` returns True when at least one is True.  \n",
    "```python\n",
    "(True and True) == True\n",
    "(True and False) == False\n",
    "(False and True) == False\n",
    "(False and False) == False\n",
    "(True or True) == True\n",
    "(True or False) == True\n",
    "(False or True) == True\n",
    "(False or False) == False\n",
    "```\n",
    "\n",
    " Next, run this code\n",
    "```python\n",
    "print(1+2*3)\n",
    "print((1+2)*3)\n",
    "```"
   ]
  },
  {
   "cell_type": "code",
   "execution_count": 9,
   "metadata": {},
   "outputs": [
    {
     "name": "stdout",
     "output_type": "stream",
     "text": [
      "7\n",
      "9\n"
     ]
    }
   ],
   "source": [
    "print(1+2*3)\n",
    "print((1+2)*3)"
   ]
  },
  {
   "cell_type": "markdown",
   "metadata": {},
   "source": [
    " You can see that the multiplication has the priority over addition. When you want to do addition first, then you must enclose with parentheses.  \n",
    " The priority of the operators is defined like this.  \n",
    "\n",
    "|priority|meaning|signature|\n",
    "|:-:|:-:|:-:|\n",
    "|1|formula inside ()|(......)|\n",
    "|2|power|\\*\\*|\n",
    "|3|sign|+X, -X|\n",
    "|4|multiplecation, division|\\*, /, %|\n",
    "|5|addition, subtraction|+, -|\n",
    "|6|comparison|<, <=, >, >=, !=, ==|\n",
    "|7|and, or|and, or|"
   ]
  },
  {
   "cell_type": "markdown",
   "metadata": {},
   "source": [
    "## Number and String\n",
    "When you write programs, you must know about types.  \n",
    "......-2,-1,0,1,2,.... are called **\"intergers\"** or **\"int\"**.<br>\n",
    "1.23 or 1.23E10 are called **\"float\"**, because the decimal point goes up and down as if it was a boat that floats on the sea.  \n",
    "When programming, the word **\"string\"** or **\"str\"** is the sequence of characters. String values act differently compared to numbers.  \n",
    "Here are the example. Run the following code.\n",
    "```python\n",
    "print(11+12)\n",
    "print(\"11\"+\"12\")\n",
    "```"
   ]
  },
  {
   "cell_type": "code",
   "execution_count": 10,
   "metadata": {},
   "outputs": [
    {
     "name": "stdout",
     "output_type": "stream",
     "text": [
      "23\n",
      "1112\n"
     ]
    }
   ],
   "source": [
    "print(11+12)\n",
    "print(\"11\"+\"12\")"
   ]
  },
  {
   "cell_type": "markdown",
   "metadata": {},
   "source": [
    "```11+12``` is 23, but ```\"11\"+\"12\"``` becomes 1112! This is the difference between number and string.  \n",
    "When you enclose something inside quotes, that value is taken as a string. ```11``` is a number, but ```\"11\"``` is a string and computer take this as a two characters '1' and '1'.  \n",
    "The operator ```+``` is a addition **only when** you place numbers before and after. If you place strings around operator ```+```, then it will be taken as a **concatenation.**  \n",
    "```python\n",
    "#If you run the following code, the error will occur.\n",
    "#Do not try to add string and numbers!\n",
    "print(11+\"12\")\n",
    "print(\"11\"+12)\n",
    "```"
   ]
  },
  {
   "cell_type": "code",
   "execution_count": 11,
   "metadata": {},
   "outputs": [
    {
     "ename": "TypeError",
     "evalue": "unsupported operand type(s) for +: 'int' and 'str'",
     "output_type": "error",
     "traceback": [
      "\u001b[1;31m---------------------------------------------------------------------------\u001b[0m",
      "\u001b[1;31mTypeError\u001b[0m                                 Traceback (most recent call last)",
      "\u001b[1;32m~\\AppData\\Local\\Temp/ipykernel_13876/706718453.py\u001b[0m in \u001b[0;36m<module>\u001b[1;34m\u001b[0m\n\u001b[1;32m----> 1\u001b[1;33m \u001b[0mprint\u001b[0m\u001b[1;33m(\u001b[0m\u001b[1;36m11\u001b[0m\u001b[1;33m+\u001b[0m\u001b[1;34m\"12\"\u001b[0m\u001b[1;33m)\u001b[0m\u001b[1;33m\u001b[0m\u001b[1;33m\u001b[0m\u001b[0m\n\u001b[0m",
      "\u001b[1;31mTypeError\u001b[0m: unsupported operand type(s) for +: 'int' and 'str'"
     ]
    }
   ],
   "source": [
    "print(11+\"12\")"
   ]
  },
  {
   "cell_type": "markdown",
   "metadata": {},
   "source": [
    "As you see, the addition between int(integer) and str(string) is not allowed."
   ]
  },
  {
   "cell_type": "code",
   "execution_count": 12,
   "metadata": {},
   "outputs": [
    {
     "ename": "TypeError",
     "evalue": "can only concatenate str (not \"int\") to str",
     "output_type": "error",
     "traceback": [
      "\u001b[1;31m---------------------------------------------------------------------------\u001b[0m",
      "\u001b[1;31mTypeError\u001b[0m                                 Traceback (most recent call last)",
      "\u001b[1;32m~\\AppData\\Local\\Temp/ipykernel_13876/1860332338.py\u001b[0m in \u001b[0;36m<module>\u001b[1;34m\u001b[0m\n\u001b[1;32m----> 1\u001b[1;33m \u001b[0mprint\u001b[0m\u001b[1;33m(\u001b[0m\u001b[1;34m\"11\"\u001b[0m\u001b[1;33m+\u001b[0m\u001b[1;36m12\u001b[0m\u001b[1;33m)\u001b[0m\u001b[1;33m\u001b[0m\u001b[1;33m\u001b[0m\u001b[0m\n\u001b[0m",
      "\u001b[1;31mTypeError\u001b[0m: can only concatenate str (not \"int\") to str"
     ]
    }
   ],
   "source": [
    "print(\"11\"+12)"
   ]
  },
  {
   "cell_type": "markdown",
   "metadata": {},
   "source": [
    "Also, the addition between str(string) and int(integer) is not allowed."
   ]
  },
  {
   "cell_type": "markdown",
   "metadata": {},
   "source": [
    "Next, run the following code.\n",
    "```python\n",
    "print(\"12\"*2)\n",
    "```"
   ]
  },
  {
   "cell_type": "code",
   "execution_count": 13,
   "metadata": {},
   "outputs": [
    {
     "name": "stdout",
     "output_type": "stream",
     "text": [
      "1212\n"
     ]
    }
   ],
   "source": [
    "print(\"12\"*2)"
   ]
  },
  {
   "cell_type": "markdown",
   "metadata": {},
   "source": [
    "Multiplication between string and integer is allowed, and it will concatenate words two (or more) times."
   ]
  },
  {
   "cell_type": "markdown",
   "metadata": {},
   "source": [
    "## Type Checking\n",
    "Run the following code.\n",
    "```python\n",
    "print(type(12))\n",
    "print(type(1.2))\n",
    "print(type(\"12\"))\n",
    "```"
   ]
  },
  {
   "cell_type": "code",
   "execution_count": 14,
   "metadata": {},
   "outputs": [
    {
     "name": "stdout",
     "output_type": "stream",
     "text": [
      "<class 'int'>\n",
      "<class 'float'>\n",
      "<class 'str'>\n"
     ]
    }
   ],
   "source": [
    "print(type(12))\n",
    "print(type(1.2))\n",
    "print(type(\"12\"))"
   ]
  },
  {
   "cell_type": "markdown",
   "metadata": {},
   "source": [
    "As you can see, the function ```type()``` will tell us what the type of value is."
   ]
  },
  {
   "cell_type": "markdown",
   "metadata": {},
   "source": [
    "## Type Casting\n",
    "You may wondering how to chage the type of values. You can do this by using ```int()```, ```float()```, and ```str()```  \n",
    "Run the following code.\n",
    "```python\n",
    "print(\"123\")\n",
    "print(type(\"123\"))\n",
    "print(int(\"123\"))\n",
    "print(type(int(\"123\")))\n",
    "```"
   ]
  },
  {
   "cell_type": "code",
   "execution_count": 15,
   "metadata": {},
   "outputs": [
    {
     "name": "stdout",
     "output_type": "stream",
     "text": [
      "123\n",
      "<class 'str'>\n",
      "123\n",
      "<class 'int'>\n"
     ]
    }
   ],
   "source": [
    "print(\"123\")\n",
    "print(type(\"123\"))\n",
    "print(int(\"123\"))\n",
    "print(type(int(\"123\")))"
   ]
  },
  {
   "cell_type": "markdown",
   "metadata": {},
   "source": [
    "Next run the following code.\n",
    "```python\n",
    "print(123)\n",
    "print(type(123))\n",
    "print(str(123))\n",
    "print(type(str(123)))\n",
    "```"
   ]
  },
  {
   "cell_type": "code",
   "execution_count": 16,
   "metadata": {},
   "outputs": [
    {
     "name": "stdout",
     "output_type": "stream",
     "text": [
      "123\n",
      "<class 'int'>\n",
      "123\n",
      "<class 'str'>\n"
     ]
    }
   ],
   "source": [
    "print(123)\n",
    "print(type(123))\n",
    "print(str(123))\n",
    "print(type(str(123)))"
   ]
  },
  {
   "cell_type": "markdown",
   "metadata": {},
   "source": [
    "The function ```int()``` can convert string into integer, and the function ```str()``` can convert integer into string.  \n",
    "Here is an example of the usage of type casting. Run the following code.\n",
    "```python\n",
    "print(\"3+4=\" + str(3+4))\n",
    "```"
   ]
  },
  {
   "cell_type": "code",
   "execution_count": 17,
   "metadata": {},
   "outputs": [
    {
     "name": "stdout",
     "output_type": "stream",
     "text": [
      "3+4=7\n"
     ]
    }
   ],
   "source": [
    "print(\"3+4=\" + str(3+4))"
   ]
  },
  {
   "cell_type": "markdown",
   "metadata": {},
   "source": [
    "The program tries to calculate the concatenation of ```\"3+4=\"``` and ```str(3+4)```, both of which are strings.  \n",
    "Next, the program tries to cast ```3+4``` to string, which means it changes 7(integer) into \"7\"(string).  \n",
    "As a result, the outcome of the program becomes the string of \"3+4=7\".  \n",
    "<br>\n",
    "You can also cast between string to float.  \n",
    "Run the following code.\n",
    "```python\n",
    "print(str(1.2))\n",
    "print(type(str(1.2)))\n",
    "print(float(\"1.2\"))\n",
    "print(type(float(\"1.2\")))\n",
    "\n",
    "print(\"1.2+3.4=\" + str(1.2+3.4))\n",
    "```"
   ]
  },
  {
   "cell_type": "code",
   "execution_count": 18,
   "metadata": {},
   "outputs": [
    {
     "name": "stdout",
     "output_type": "stream",
     "text": [
      "1.2\n",
      "<class 'str'>\n",
      "1.2\n",
      "<class 'float'>\n"
     ]
    }
   ],
   "source": [
    "print(str(1.2))\n",
    "print(type(str(1.2)))\n",
    "print(float(\"1.2\"))\n",
    "print(type(float(\"1.2\")))"
   ]
  },
  {
   "cell_type": "code",
   "execution_count": 19,
   "metadata": {},
   "outputs": [
    {
     "name": "stdout",
     "output_type": "stream",
     "text": [
      "1.2+3.4=4.6\n"
     ]
    }
   ],
   "source": [
    "print(\"1.2+3.4=\" + str(1.2+3.4))"
   ]
  },
  {
   "cell_type": "code",
   "execution_count": null,
   "metadata": {},
   "outputs": [],
   "source": []
  },
  {
   "cell_type": "code",
   "execution_count": null,
   "metadata": {},
   "outputs": [],
   "source": []
  }
 ],
 "metadata": {
  "colab": {
   "collapsed_sections": [],
   "provenance": []
  },
  "kernelspec": {
   "display_name": "Python 3 (ipykernel)",
   "language": "python",
   "name": "python3"
  },
  "language_info": {
   "codemirror_mode": {
    "name": "ipython",
    "version": 3
   },
   "file_extension": ".py",
   "mimetype": "text/x-python",
   "name": "python",
   "nbconvert_exporter": "python",
   "pygments_lexer": "ipython3",
   "version": "3.7.9"
  }
 },
 "nbformat": 4,
 "nbformat_minor": 1
}
