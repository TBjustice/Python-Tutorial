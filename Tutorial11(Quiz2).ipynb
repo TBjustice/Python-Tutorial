{
 "cells": [
  {
   "cell_type": "markdown",
   "id": "27f31948",
   "metadata": {},
   "source": [
    "# Quiz2\n",
    "Open the file \"numbers.txt\" as ```f```."
   ]
  },
  {
   "cell_type": "code",
   "execution_count": 3,
   "id": "d66679be",
   "metadata": {},
   "outputs": [],
   "source": []
  },
  {
   "cell_type": "markdown",
   "id": "e388a525",
   "metadata": {},
   "source": [
    "Create a string variable called ```text``` and initialize with text in the file.<br>\n",
    "After that, split the text with comma, and name it splitted."
   ]
  },
  {
   "cell_type": "code",
   "execution_count": 4,
   "id": "ae2e8bb9",
   "metadata": {},
   "outputs": [],
   "source": []
  },
  {
   "cell_type": "markdown",
   "id": "30fa8e4e",
   "metadata": {},
   "source": [
    "Release the access of file."
   ]
  },
  {
   "cell_type": "code",
   "execution_count": 5,
   "id": "c99f41fa",
   "metadata": {
    "scrolled": true
   },
   "outputs": [],
   "source": []
  },
  {
   "cell_type": "markdown",
   "id": "4209eb14",
   "metadata": {},
   "source": [
    "Create a list called ```numbers``` and initialize with empty list."
   ]
  },
  {
   "cell_type": "code",
   "execution_count": 6,
   "id": "c64496e9",
   "metadata": {},
   "outputs": [],
   "source": []
  },
  {
   "cell_type": "markdown",
   "id": "6045f6a7",
   "metadata": {},
   "source": [
    "Write a for-loop which enumerates strings in the ```splitted``` and convert each element to float, and then push that value to the end of the ```numbers```."
   ]
  },
  {
   "cell_type": "code",
   "execution_count": 7,
   "id": "70a35dae",
   "metadata": {},
   "outputs": [],
   "source": []
  },
  {
   "cell_type": "markdown",
   "id": "a62bd430",
   "metadata": {},
   "source": [
    "Print the content and the type of the first element in the numbers."
   ]
  },
  {
   "cell_type": "code",
   "execution_count": null,
   "id": "d48903b6",
   "metadata": {},
   "outputs": [],
   "source": []
  },
  {
   "cell_type": "markdown",
   "id": "9a628440",
   "metadata": {},
   "source": [
    "It should be...\n",
    ">3.21<br>\n",
    "><class 'float'>"
   ]
  },
  {
   "cell_type": "markdown",
   "id": "60feedb2",
   "metadata": {},
   "source": [
    "Import numpy as np."
   ]
  },
  {
   "cell_type": "code",
   "execution_count": 10,
   "id": "79a51797",
   "metadata": {},
   "outputs": [],
   "source": []
  },
  {
   "cell_type": "markdown",
   "id": "c2501c87",
   "metadata": {},
   "source": [
    "Convert numbers to numpy-array and store that array with name ```numarray```"
   ]
  },
  {
   "cell_type": "code",
   "execution_count": 11,
   "id": "1e3ee56e",
   "metadata": {
    "scrolled": true
   },
   "outputs": [],
   "source": []
  },
  {
   "cell_type": "markdown",
   "id": "7dc22baa",
   "metadata": {},
   "source": [
    "Import matplotlib.pyplot as plt"
   ]
  },
  {
   "cell_type": "code",
   "execution_count": 12,
   "id": "b9a80748",
   "metadata": {},
   "outputs": [],
   "source": []
  },
  {
   "cell_type": "markdown",
   "id": "b3dca7e6",
   "metadata": {},
   "source": [
    "Create a figure whose size is 8 in width and 4 in height.<br>\n",
    "Create an single axis inside figure.<br>\n",
    "Draw line-graph about numarray to the axis.<br>\n",
    "Set the label of x-axis to \"time[ms]\".<br>\n",
    "Set the label of y-axis to \"voltage[mV]\".<br>\n",
    "Set the title of axis to \"Changes of Voltage\".<br>\n",
    "Finally, show the graph."
   ]
  },
  {
   "cell_type": "code",
   "execution_count": null,
   "id": "95fddd3d",
   "metadata": {},
   "outputs": [],
   "source": []
  },
  {
   "cell_type": "markdown",
   "id": "23fca06c",
   "metadata": {},
   "source": [
    "Print the length of ```numarray```. It must be 500."
   ]
  },
  {
   "cell_type": "code",
   "execution_count": null,
   "id": "62dcdbc1",
   "metadata": {
    "scrolled": true
   },
   "outputs": [],
   "source": []
  },
  {
   "cell_type": "markdown",
   "id": "bc5ee34a",
   "metadata": {},
   "source": [
    "Create a roi called ```sub0``` which contains from ```numarray[0]``` until ```numarray[495]```.<br>\n",
    "Print the length of ```sub0```, it must be 496."
   ]
  },
  {
   "cell_type": "code",
   "execution_count": null,
   "id": "0ea6e67f",
   "metadata": {
    "scrolled": false
   },
   "outputs": [],
   "source": []
  },
  {
   "cell_type": "markdown",
   "id": "51108486",
   "metadata": {},
   "source": [
    "Create a roi called ```sub1``` which contains from ```numarray[1]``` until ```numarray[496]```.<br>\n",
    "Print the length of ```sub1```, it must be 496."
   ]
  },
  {
   "cell_type": "code",
   "execution_count": null,
   "id": "f9b0ceb0",
   "metadata": {},
   "outputs": [],
   "source": []
  },
  {
   "cell_type": "markdown",
   "id": "ec675020",
   "metadata": {},
   "source": [
    "Create a roi called ```sub2``` which contains from ```numarray[2]``` until ```numarray[497]```.<br>\n",
    "Create a roi called ```sub2``` which contains from ```numarray[3]``` until ```numarray[498]```.<br>\n",
    "Create a roi called ```sub2``` which contains from ```numarray[4]``` until ```numarray[499]```.<br>\n",
    "Print the length of them. All the length must be 496."
   ]
  },
  {
   "cell_type": "code",
   "execution_count": null,
   "id": "81fe2de7",
   "metadata": {},
   "outputs": [],
   "source": []
  },
  {
   "cell_type": "markdown",
   "id": "7c5f17b1",
   "metadata": {},
   "source": [
    "Print the first 10 elements in numarray. This can be write like ```print(numarray[:10])```<br>\n",
    "Similarly, write the program that shows first 6 elements in ```sub0```, ```sub1```, ```sub2```, ```sub3```, and ```sub4```."
   ]
  },
  {
   "cell_type": "code",
   "execution_count": null,
   "id": "ab54f1b5",
   "metadata": {},
   "outputs": [],
   "source": []
  },
  {
   "cell_type": "markdown",
   "id": "d6566187",
   "metadata": {},
   "source": [
    "It must be like <br>\n",
    ">[ 3.21  5.33  0.46  7.87 21.93 10.1  11.85  9.12  6.17 -0.43]<br>\n",
    ">[ 3.21  5.33  0.46  7.87 21.93 10.1 ]<br>\n",
    ">[ 5.33  0.46  7.87 21.93 10.1  11.85]<br>\n",
    ">[ 0.46  7.87 21.93 10.1  11.85  9.12]<br>\n",
    ">[ 7.87 21.93 10.1  11.85  9.12  6.17]<br>\n",
    ">[21.93 10.1  11.85  9.12  6.17 -0.43]<br>\n",
    "\n",
    "<br>\n",
    "You can see that<br>\n",
    "\n",
    ">sub0[N] is numarray[N]<br>\n",
    ">sub1[N] is numarray[N+1]<br>\n",
    ">sub2[N] is numarray[N+2]<br>\n",
    ">sub3[N] is numarray[N+3]<br>\n",
    ">sub4[N] is numarray[N+4]<br>\n",
    "\n",
    "<br>\n",
    "<br>\n",
    "\n",
    "Next, create a numpy-array called ```SUM``` and initialize with sub0+sub1+sub2+sub3+sub4."
   ]
  },
  {
   "cell_type": "code",
   "execution_count": null,
   "id": "e936572b",
   "metadata": {},
   "outputs": [],
   "source": []
  },
  {
   "cell_type": "markdown",
   "id": "06f08d89",
   "metadata": {},
   "source": [
    "Print the first 6 elements in the SUM."
   ]
  },
  {
   "cell_type": "code",
   "execution_count": null,
   "id": "3aa2fd22",
   "metadata": {},
   "outputs": [],
   "source": []
  },
  {
   "cell_type": "markdown",
   "id": "aba01e2f",
   "metadata": {},
   "source": [
    "It must be\n",
    ">[38.8  45.69 52.21 60.87 59.17 36.81]\n",
    "\n",
    "<br>\n",
    "\n",
    "```SUM[N]``` must be equal to ```sub0[N]+sub1[N]+sub2[N]+sub3[N]+sub4[N]```, which is equal to ```numarray[N]+numarray[N+1]+numarray[N+2]+numarray[N+3]+numarray[N+4]```.\n",
    "<br>\n",
    "<br>\n",
    "<br>\n",
    "Next, create a numpy-array called ```MovingAverage``` and initialize with SUM/5.<br>"
   ]
  },
  {
   "cell_type": "code",
   "execution_count": null,
   "id": "d02dfbb2",
   "metadata": {},
   "outputs": [],
   "source": []
  },
  {
   "cell_type": "markdown",
   "id": "bfc7946b",
   "metadata": {},
   "source": [
    "Print first 6 elements in ```MovingAverage```"
   ]
  },
  {
   "cell_type": "code",
   "execution_count": null,
   "id": "80f84326",
   "metadata": {},
   "outputs": [],
   "source": []
  },
  {
   "cell_type": "markdown",
   "id": "729f7137",
   "metadata": {},
   "source": [
    "It must be\n",
    ">[ 7.76   9.138 10.442 12.174 11.834  7.362]\n",
    "\n",
    "<br>\n",
    "\n",
    "```MovingAverage[N]``` must be equal to the average of ```numarray[N]``` , ```numarray[N+1]```, ```numarray[N+2]```, ```numarray[N+3]```, ```numarray[N+4]```.\n",
    "<br>\n",
    "The avarage of ```numarray[N]``` , ```numarray[N+1]```, ```numarray[N+2]```, ```numarray[N+3]```, ```numarray[N+4]``` is called the \"moving average of numarray\".<br>\n",
    "By calculating moving average, you can smooth out the spike-noize.\n",
    "<br>\n",
    "<br>\n",
    "Let's see what can be seen from MovingAverage. We may find some signal from it!<br>\n",
    ">Create a figure whose size is 8 in width and 8 in height.<br>\n",
    "Create two axes(ax1, and ax2) inside figure. They are placed vertically inside the figure<br>\n",
    "\n",
    ">Draw line-graph about numarray to the ax1.<br>\n",
    "Set the label of x-axis to \"time[ms]\".<br>\n",
    "Set the label of y-axis to \"voltage[mV]\".<br>\n",
    "Set the title of axis to \"Raw Data\".<br>\n",
    "\n",
    ">Draw line-graph about MovingAverage to the ax2.<br>\n",
    "Set the label of x-axis to \"time[ms]\".<br>\n",
    "Set the label of y-axis to \"voltage[mV]\".<br>\n",
    "Set the title of axis to \"Moving Average\".<br>\n",
    "\n",
    ">Set the tile of figure as \"Changes of Voltage\".\n",
    "\n",
    ">Finally, show the graph."
   ]
  },
  {
   "cell_type": "code",
   "execution_count": null,
   "id": "6b3e107b",
   "metadata": {},
   "outputs": [],
   "source": []
  },
  {
   "cell_type": "markdown",
   "id": "bf2e680a",
   "metadata": {},
   "source": [
    "You will see 10 spikes in the data!!<br>\n",
    "Calculating moving average can visualize some signal hidden inside the noise!!"
   ]
  }
 ],
 "metadata": {
  "kernelspec": {
   "display_name": "Python 3 (ipykernel)",
   "language": "python",
   "name": "python3"
  },
  "language_info": {
   "codemirror_mode": {
    "name": "ipython",
    "version": 3
   },
   "file_extension": ".py",
   "mimetype": "text/x-python",
   "name": "python",
   "nbconvert_exporter": "python",
   "pygments_lexer": "ipython3",
   "version": "3.7.9"
  }
 },
 "nbformat": 4,
 "nbformat_minor": 5
}
