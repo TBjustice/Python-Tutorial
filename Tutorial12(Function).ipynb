{
 "cells": [
  {
   "cell_type": "markdown",
   "id": "225a6fff",
   "metadata": {},
   "source": [
    "# Function\n",
    "## What is a function?\n",
    "Function is like a factory in the program. Read the following code.\n",
    "```python\n",
    "def CarFactory(color, wheel):\n",
    "    return \"The car with \" + color + \" body. Its wheel is \" + wheel + \".\"\n",
    "\n",
    "car1 = CarFactory(\"white\", \"normal wheel\")\n",
    "car2 = CarFactory(\"red\", \"snow wheel\")\n",
    "\n",
    "print(car1)\n",
    "print(car2)\n",
    "```"
   ]
  },
  {
   "cell_type": "code",
   "execution_count": 4,
   "id": "8514da48",
   "metadata": {},
   "outputs": [],
   "source": [
    "def CarFactory(color, wheel):\n",
    "    return \"The car with \" + color + \" body. Its wheel is \" + wheel + \".\""
   ]
  },
  {
   "cell_type": "code",
   "execution_count": 5,
   "id": "a373e283",
   "metadata": {},
   "outputs": [],
   "source": [
    "car1 = CarFactory(\"white\", \"normal wheel\")\n",
    "car2 = CarFactory(\"red\", \"snow wheel\")"
   ]
  },
  {
   "cell_type": "code",
   "execution_count": 6,
   "id": "9fd63653",
   "metadata": {},
   "outputs": [
    {
     "name": "stdout",
     "output_type": "stream",
     "text": [
      "The car with white body. Its wheel is normal wheel.\n",
      "The car with red body. Its wheel is snow wheel.\n"
     ]
    }
   ],
   "source": [
    "print(car1)\n",
    "print(car2)"
   ]
  },
  {
   "cell_type": "markdown",
   "id": "ebdd962c",
   "metadata": {},
   "source": [
    ">```def CarFactory(color, wheel):```\n",
    "\n",
    "```def```:It means that the following is the **def**inition of function.<br>\n",
    "```CarFactory```:The name of the function.<br>\n",
    "```(color, wheel):```:The list of arguments. Arguments are like \"material\" for creating products. In this example, color and the wheel is used to make a car.<br>\n",
    "<br>\n",
    "The block of code after this defenition will be executed every time the function is called.<br>\n",
    "<br>\n",
    ">```return \"The car with \" + color + \" body. Its wheel is \" + wheel + \".\"```\n",
    "\n",
    "```return```:This means that the value after return statement is the final product of this function. In this example, \"The car with ○○ body. Its wheel is ○○.\" is the final product.<br>\n",
    "<br>\n",
    "Note that return statement force the function to end, thus the code written after this line will not be executed. \n",
    "<br>\n",
    "<br>\n",
    "<br>\n",
    "\n",
    ">car1 = CarFactory(\"white\", \"normal wheel\")\n",
    "\n",
    "In this line, ```CarFactory``` runs. It creates \"The car with white body. Its wheel is normal wheel.\" as a final product and is saved to a variable called ```car1```.\n",
    "<br>\n",
    "<br>\n",
    "<br>\n",
    "I said \"return statement force the function to end, thus the code written after this line will not be executed\", but what is this mean? See the following code.\n",
    "```python\n",
    "def func(x):\n",
    "    print(\"before return\")\n",
    "    return 2*x\n",
    "    print(\"after return\")\n",
    "\n",
    "y=func(10)\n",
    "```"
   ]
  },
  {
   "cell_type": "code",
   "execution_count": 16,
   "id": "caa30107",
   "metadata": {},
   "outputs": [],
   "source": [
    "def func(x):\n",
    "    print(\"before return\")\n",
    "    return 2*x\n",
    "    print(\"after return\")"
   ]
  },
  {
   "cell_type": "code",
   "execution_count": 17,
   "id": "9604888e",
   "metadata": {},
   "outputs": [
    {
     "name": "stdout",
     "output_type": "stream",
     "text": [
      "before return\n"
     ]
    }
   ],
   "source": [
    "y=func(10)"
   ]
  },
  {
   "cell_type": "markdown",
   "id": "353e3f9a",
   "metadata": {},
   "source": [
    "As you see, while ```print(\"before return\")``` runs when the function is called, ```print(\"after return\")``` is skipped.<br>\n",
    "<br>\n",
    "If there are no return statement in the function,(or when the function reaches the end without running return statement), the function returns ```None```.\n",
    "```python\n",
    "def func1():\n",
    "    print(\"hi\")\n",
    "value = func1()\n",
    "print(value)\n",
    "\n",
    "def func2(x):\n",
    "    if(x%2==1):\n",
    "        return x+1\n",
    "    print(\"hi, the value is even\")\n",
    "value=func2(1)\n",
    "print(value)\n",
    "value=func2(2)\n",
    "print(value)\n",
    "```"
   ]
  },
  {
   "cell_type": "code",
   "execution_count": 20,
   "id": "4039bd4e",
   "metadata": {},
   "outputs": [
    {
     "name": "stdout",
     "output_type": "stream",
     "text": [
      "hi\n",
      "None\n"
     ]
    }
   ],
   "source": [
    "def func1():\n",
    "    print(\"hi\")\n",
    "value = func1()\n",
    "print(value)"
   ]
  },
  {
   "cell_type": "markdown",
   "id": "2bf70b72",
   "metadata": {},
   "source": [
    "In line-1, function called ```func1``` is defined.<br>\n",
    "In line-2, the contents of func1 is written.<br>\n",
    "Line-3 is NOT included inside func1. 4-sapce must be written before each line if you want to include that line inside the function. This line just initializes ```value``` with the return value of ```func1()```, which is None."
   ]
  },
  {
   "cell_type": "code",
   "execution_count": 21,
   "id": "0854439e",
   "metadata": {},
   "outputs": [
    {
     "name": "stdout",
     "output_type": "stream",
     "text": [
      "2\n",
      "hi, the value is even\n",
      "None\n"
     ]
    }
   ],
   "source": [
    "def func2(x):\n",
    "    if(x%2==1):\n",
    "        return x+1\n",
    "    print(\"hi, the value is even\")\n",
    "value=func2(1)\n",
    "print(value)\n",
    "value=func2(2)\n",
    "print(value)"
   ]
  },
  {
   "cell_type": "markdown",
   "id": "49b97d92",
   "metadata": {},
   "source": [
    "When the ```func2(1)``` is called, ```x%2==1``` is True. So ```return x+1``` will be executed. However, when ```func2(2)``` is called, ```x%2==1``` is False so the ```return x+1``` is not executed and the function reaches at the end(=```print(\"hi, the value is even\")```).<br>\n",
    "So, ```func2(2)``` will return None."
   ]
  },
  {
   "cell_type": "code",
   "execution_count": null,
   "id": "8d2bdee6",
   "metadata": {},
   "outputs": [],
   "source": []
  }
 ],
 "metadata": {
  "kernelspec": {
   "display_name": "Python 3 (ipykernel)",
   "language": "python",
   "name": "python3"
  },
  "language_info": {
   "codemirror_mode": {
    "name": "ipython",
    "version": 3
   },
   "file_extension": ".py",
   "mimetype": "text/x-python",
   "name": "python",
   "nbconvert_exporter": "python",
   "pygments_lexer": "ipython3",
   "version": "3.7.9"
  }
 },
 "nbformat": 4,
 "nbformat_minor": 5
}
