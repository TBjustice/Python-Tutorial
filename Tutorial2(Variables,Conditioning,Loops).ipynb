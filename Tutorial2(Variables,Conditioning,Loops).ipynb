{
 "cells": [
  {
   "cell_type": "markdown",
   "metadata": {
    "id": "HVQaxhzWYOpv"
   },
   "source": [
    "# Variable, Conditioning, Loops\n",
    "## Variable\n",
    "**Variable** is a storage inside the program. It can hold information until the information is overwritten or program shuts down.  \n",
    "When you want to create variable, all you have to do is to write ```name_of_variable = initial_value```. Here are some example.\n",
    "```python\n",
    "variable1 = 1\n",
    "variable2 = 2\n",
    "print(\"variable1=\" + str(variable1))\n",
    "print(\"variable2=\" + str(variable2))\n",
    "```"
   ]
  },
  {
   "cell_type": "code",
   "execution_count": 1,
   "metadata": {},
   "outputs": [
    {
     "name": "stdout",
     "output_type": "stream",
     "text": [
      "variable1=1\n",
      "variable2=2\n"
     ]
    }
   ],
   "source": [
    "variable1 = 1\n",
    "variable2 = 2\n",
    "print(\"variable1=\" + str(variable1))\n",
    "print(\"variable2=\" + str(variable2))"
   ]
  },
  {
   "cell_type": "markdown",
   "metadata": {},
   "source": [
    "We can now create a variable called ```variable1``` and ```variable2```.<br>\n",
    "The value inside ```variable1``` is now 1, but if you overwrite it, the initial value is lost. Run the following code.\n",
    "```python\n",
    "variable1 = 10\n",
    "print(\"variable1=\" + str(variable1))\n",
    "print(\"variable2=\" + str(variable2))\n",
    "```"
   ]
  },
  {
   "cell_type": "code",
   "execution_count": 2,
   "metadata": {},
   "outputs": [
    {
     "name": "stdout",
     "output_type": "stream",
     "text": [
      "variable1=10\n",
      "variable2=2\n"
     ]
    }
   ],
   "source": [
    "variable1 = 10\n",
    "print(\"variable1=\" + str(variable1))\n",
    "print(\"variable2=\" + str(variable2))"
   ]
  },
  {
   "cell_type": "markdown",
   "metadata": {},
   "source": [
    "Now the value inside ```variable1``` becomes 10.  \n",
    "Remember that variable can be overwrite with the formula that contains the value itself.  \n",
    "Run the following code.\n",
    "```python\n",
    "variable1 = variable1+2\n",
    "print(\"variable1=\" + str(variable1))\n",
    "variable1 = variable1*2\n",
    "print(\"variable1=\" + str(variable1))\n",
    "variable1 = variable1/6\n",
    "print(\"variable1=\" + str(variable1))\n",
    "```"
   ]
  },
  {
   "cell_type": "code",
   "execution_count": 3,
   "metadata": {},
   "outputs": [
    {
     "name": "stdout",
     "output_type": "stream",
     "text": [
      "variable1=12\n",
      "variable1=24\n",
      "variable1=4.0\n"
     ]
    }
   ],
   "source": [
    "variable1 = variable1+2\n",
    "print(\"variable1=\" + str(variable1))\n",
    "variable1 = variable1*2\n",
    "print(\"variable1=\" + str(variable1))\n",
    "variable1 = variable1/6\n",
    "print(\"variable1=\" + str(variable1))"
   ]
  },
  {
   "cell_type": "markdown",
   "metadata": {},
   "source": [
    "In the line ```variable1 = variable1+2```, variable1 is overwritten with the value ```variable1+2```, which is 10+2=12.  \n",
    "In the line ```variable1 = variable1/6```, variable1 is overwritten with ```24/6```, and becomes float.  \n",
    "<br>\n",
    "Now you know that the operation ```variable = variable + SomeValue``` means \"Add SomeValue and Assign\", which is a very common operation in the programming. And so, this code has a abbreviation.  \n",
    "Execute the following code.\n",
    "```python\n",
    "variable1=1\n",
    "print(\"variable1=\" + str(variable1))\n",
    "variable1+=1\n",
    "print(\"variable1=\" + str(variable1))\n",
    "```"
   ]
  },
  {
   "cell_type": "code",
   "execution_count": 4,
   "metadata": {},
   "outputs": [
    {
     "name": "stdout",
     "output_type": "stream",
     "text": [
      "variable1=1\n",
      "variable1=2\n"
     ]
    }
   ],
   "source": [
    "variable1=1\n",
    "print(\"variable1=\" + str(variable1))\n",
    "variable1+=1\n",
    "print(\"variable1=\" + str(variable1))"
   ]
  },
  {
   "cell_type": "markdown",
   "metadata": {},
   "source": [
    "This is how \"Add Assign\" works. There are also \"Subtract Assign\", \"Multiply Assign\", \"Divide Assign\".  \n",
    "```python\n",
    "variable1=1\n",
    "print(variable1)\n",
    "variable1+=2\n",
    "print(variable1)\n",
    "variable1*=4\n",
    "print(variable1)\n",
    "variable1-=3\n",
    "print(variable1)\n",
    "variable1/=4\n",
    "print(variable1)\n",
    "```"
   ]
  },
  {
   "cell_type": "code",
   "execution_count": 5,
   "metadata": {},
   "outputs": [
    {
     "name": "stdout",
     "output_type": "stream",
     "text": [
      "1\n",
      "3\n",
      "12\n",
      "9\n",
      "2.25\n"
     ]
    }
   ],
   "source": [
    "variable1=1\n",
    "print(variable1)\n",
    "variable1+=2\n",
    "print(variable1)\n",
    "variable1*=4\n",
    "print(variable1)\n",
    "variable1-=3\n",
    "print(variable1)\n",
    "variable1/=4\n",
    "print(variable1)"
   ]
  },
  {
   "cell_type": "markdown",
   "metadata": {},
   "source": [
    "There are also ```%=```, ```**=```, ```//=```.\n",
    "```python\n",
    "variable1=25\n",
    "print(variable1)\n",
    "variable1%=7\n",
    "print(variable1)\n",
    "variable1**4\n",
    "print(variable1)\n",
    "variable1//=10\n",
    "print(variable1)\n",
    "```"
   ]
  },
  {
   "cell_type": "code",
   "execution_count": 6,
   "metadata": {},
   "outputs": [
    {
     "name": "stdout",
     "output_type": "stream",
     "text": [
      "25\n",
      "4\n",
      "256\n",
      "25\n"
     ]
    }
   ],
   "source": [
    "variable1=25\n",
    "print(variable1)\n",
    "variable1%=7\n",
    "print(variable1)\n",
    "variable1**=4\n",
    "print(variable1)\n",
    "variable1//=10\n",
    "print(variable1)"
   ]
  },
  {
   "cell_type": "markdown",
   "metadata": {},
   "source": [
    "## if-elif-else statement\n",
    "Next topic is the use of if-elif-else statement. There are many cases in which you want to change the behavior according to the input.  \n",
    "Tipe the following code and run it.\n",
    "```python\n",
    "value=5\n",
    "if value>0:\n",
    "    print(str(value)+\" is positive.\")\n",
    "elif value<0:\n",
    "    print(str(value)+\" is negative.\")\n",
    "else:\n",
    "    print(str(value)+\" is zero.\")\n",
    "```"
   ]
  },
  {
   "cell_type": "code",
   "execution_count": 7,
   "metadata": {},
   "outputs": [
    {
     "name": "stdout",
     "output_type": "stream",
     "text": [
      "5 is positive.\n"
     ]
    }
   ],
   "source": [
    "value=5\n",
    "if value>0:\n",
    "    print(str(value)+\" is positive.\")\n",
    "elif value<0:\n",
    "    print(str(value)+\" is negative.\")\n",
    "else:\n",
    "    print(str(value)+\" is zero.\")"
   ]
  },
  {
   "cell_type": "code",
   "execution_count": 8,
   "metadata": {},
   "outputs": [
    {
     "name": "stdout",
     "output_type": "stream",
     "text": [
      "-5 is negative.\n"
     ]
    }
   ],
   "source": [
    "value=-5\n",
    "if value>0:\n",
    "    print(str(value)+\" is positive.\")\n",
    "elif value<0:\n",
    "    print(str(value)+\" is negative.\")\n",
    "else:\n",
    "    print(str(value)+\" is zero.\")"
   ]
  },
  {
   "cell_type": "code",
   "execution_count": 9,
   "metadata": {},
   "outputs": [
    {
     "name": "stdout",
     "output_type": "stream",
     "text": [
      "0 is zero.\n"
     ]
    }
   ],
   "source": [
    "value=0\n",
    "if value>0:\n",
    "    print(str(value)+\" is positive.\")\n",
    "elif value<0:\n",
    "    print(str(value)+\" is negative.\")\n",
    "else:\n",
    "    print(str(value)+\" is zero.\")"
   ]
  },
  {
   "cell_type": "markdown",
   "metadata": {},
   "source": [
    "```print(str(value)+\" is positive.\")``` is executed only when the assertion ```value>0``` is True. Similarly, ```print(str(value)+\" is negative.\")``` is executed when ```value<0```, and ```print(str(value)+\" is zero.\")``` is executed if the assertions above are both False.<br>\n",
    "<br>\n",
    "Note that the content inside if must be indented, which means that you must write 4 spaces before the line.<br>\n",
    "The line without 4-space is taken as the outside of if-statement.\n",
    "<br>\n",
    "```python\n",
    "value=0\n",
    "if(value==0):\n",
    "    print(\"value is zero\")\n",
    "    print(\"This is inside the if-statement because this has 4-spaces at the first.\")\n",
    "print(\"This line is not included in the if statement, so it will run even if the value is not 0\")\n",
    "\n",
    "value=1\n",
    "if(value==0):\n",
    "    print(\"value is zero\")\n",
    "    print(\"This is inside the if-statement because this has 4-spaces at the first.\")\n",
    "print(\"This line is not included in the if statement, so it will run even if the value is not 0\")\n",
    "```"
   ]
  },
  {
   "cell_type": "code",
   "execution_count": 1,
   "metadata": {},
   "outputs": [
    {
     "name": "stdout",
     "output_type": "stream",
     "text": [
      "value is zero\n",
      "This is inside the if-statement because this has 4-spaces at the first.\n",
      "This line is not included in the if statement, so it will run even if the value is not 0\n"
     ]
    }
   ],
   "source": [
    "value=0\n",
    "if(value==0):\n",
    "    print(\"value is zero\")\n",
    "    print(\"This is inside the if-statement because this has 4-spaces at the first.\")\n",
    "print(\"This line is not included in the if statement, so it will run even if the value is not 0\")"
   ]
  },
  {
   "cell_type": "code",
   "execution_count": 2,
   "metadata": {},
   "outputs": [
    {
     "name": "stdout",
     "output_type": "stream",
     "text": [
      "This line is not included in the if statement, so it will run even if the value is not 0\n"
     ]
    }
   ],
   "source": [
    "value=1\n",
    "if(value==0):\n",
    "    print(\"value is zero\")\n",
    "    print(\"This is inside the if-statement because this has 4-spaces at the first.\")\n",
    "print(\"This line is not included in the if statement, so it will run even if the value is not 0\")"
   ]
  },
  {
   "cell_type": "markdown",
   "metadata": {},
   "source": [
    "## while-loop\n",
    "Next topic is to loop the code. ```while``` statement is used to loop certain codes again and again.\n",
    "```python\n",
    "number=1\n",
    "while(number < 10):\n",
    "    print(\"number is now \" + str(number) + \".\")\n",
    "    number+=1\n",
    "print(\"Loop end\")\n",
    "```"
   ]
  },
  {
   "cell_type": "code",
   "execution_count": 10,
   "metadata": {
    "scrolled": true
   },
   "outputs": [
    {
     "name": "stdout",
     "output_type": "stream",
     "text": [
      "number is now 1.\n",
      "number is now 2.\n",
      "number is now 3.\n",
      "number is now 4.\n",
      "number is now 5.\n",
      "number is now 6.\n",
      "number is now 7.\n",
      "number is now 8.\n",
      "number is now 9.\n",
      "Loop end\n"
     ]
    }
   ],
   "source": [
    "number=1\n",
    "while(number < 10):\n",
    "    print(\"number is now \" + str(number) + \".\")\n",
    "    number+=1\n",
    "print(\"Loop end\")"
   ]
  },
  {
   "cell_type": "markdown",
   "metadata": {},
   "source": [
    "The code inside the while-loop (Line 3 to 4) is looped while the number is below 10. When the number reaches 10, the loop is stopped.  \n",
    "This is how while-loop works.<br>\n",
    "You can see that ```print(\"Loop end\")``` is executed only once. This is because ```print(\"Loop end\")``` is not included in the while-loop.\n",
    "<br>\n",
    "## Combination of if-statement and while loop.\n",
    "You can put if-statement inside while-loop and vice varsa.\n",
    "```python\n",
    "number1=1\n",
    "while(number1 < 5):\n",
    "    if(number1%2==0):\n",
    "        print(str(number1) + \" is even.\")\n",
    "        number2=1\n",
    "        while(number2 < 5):\n",
    "            print(str(number1) + \"*\" + str(number2) + \"=\" + str(number1*number2))\n",
    "            number2+=1\n",
    "    else:\n",
    "        print(str(number1) + \" is odd.\")\n",
    "    number1+=1\n",
    "print(\"Loop end\")\n",
    "```"
   ]
  },
  {
   "cell_type": "code",
   "execution_count": 7,
   "metadata": {},
   "outputs": [
    {
     "name": "stdout",
     "output_type": "stream",
     "text": [
      "1 is odd.\n",
      "2 is even.\n",
      "2*1=2\n",
      "2*2=4\n",
      "2*3=6\n",
      "2*4=8\n",
      "3 is odd.\n",
      "4 is even.\n",
      "4*1=4\n",
      "4*2=8\n",
      "4*3=12\n",
      "4*4=16\n",
      "Loop end\n"
     ]
    }
   ],
   "source": [
    "number1=1\n",
    "while(number1 < 5):\n",
    "    if(number1%2==0):\n",
    "        print(str(number1) + \" is even.\")\n",
    "        number2=1\n",
    "        while(number2 < 5):\n",
    "            print(str(number1) + \"*\" + str(number2) + \"=\" + str(number1*number2))\n",
    "            number2+=1\n",
    "    else:\n",
    "        print(str(number1) + \" is odd.\")\n",
    "    number1+=1\n",
    "print(\"Loop end\")"
   ]
  },
  {
   "cell_type": "markdown",
   "metadata": {},
   "source": [
    "Can you describe what is happening in this code?<br>\n",
    "```while(number1 < 5):``` includes these 9 lines<br>\n",
    "```python\n",
    "if(number1%2==0):\n",
    "    print(str(number1) + \" is even.\")\n",
    "    number2=1\n",
    "    while(number2 < 5):\n",
    "        print(str(number1) + \"*\" + str(number2) + \"=\" + str(number1*number2))\n",
    "        number2+=1\n",
    "else:\n",
    "    print(str(number1) + \" is odd.\")\n",
    "number1+=1\n",
    "```\n",
    "These 9 lines will be executed until ```number1``` becomes 5.<br>\n",
    "<br>\n",
    "\n",
    "When ```number1``` is 1, ```number1%2==0``` is False so this line will be executed.\n",
    "```python\n",
    "print(str(number1) + \" is odd.\")\n",
    "```\n",
    "<br>\n",
    "\n",
    "When ```number1``` is 2, ```number1%2==0``` is True so these lines will be executed.\n",
    "```python\n",
    "number2=1\n",
    "while(number2 < 5):\n",
    "    print(str(number1) + \"*\" + str(number2) + \"=\" + str(number1*number2))\n",
    "    number2+=1\n",
    "```\n",
    "Inside this block of code, the is a while-loop. This loop will run until number2 becomes 5.<br>\n",
    "<br>\n",
    "<br>\n",
    "This sample code is a little complex, so read this code thoroughly, until you completely understands.\n",
    "```python\n",
    "while(You == \"Understand\"):\n",
    "    read_this_document()\n",
    "print(\"Go to the next chapter!\")\n",
    "```"
   ]
  },
  {
   "cell_type": "markdown",
   "metadata": {},
   "source": [
    "## FizzBuzz\n",
    "Finally, let's write FizzBuzz.  \n",
    "What is FizzBuzz? Well, its a play that you listen to a number and you respond to it with the following rule.\n",
    ">If the number you hear is a number that is divisible by three, you respond \\\"Fizz.\\\"  \n",
    ">If the number is divisible by five, you respond \\\"Buzz.\\\"  \n",
    ">If the number is divisible by both three and five, you respond \\\"Fizz Buzz.\\\"  \n",
    ">If the number is not divisible by three nor five, you respond by repeating the value you hear.  \n",
    "\n",
    "Do this from 1 to 30, with the program!\n",
    "```python\n",
    "number=1\n",
    "while(number <= 30):\n",
    "    if number%3==0 and number%5==0:\n",
    "        print(str(number) + \" is Fizz Buzz\")\n",
    "    elif number%3==0:\n",
    "        print(str(number) + \" is Fizz\")\n",
    "    elif number%5==0:\n",
    "        print(str(number) + \" is Buzz\")\n",
    "    else:\n",
    "        print(str(number) + \" is \" + str(number))\n",
    "    number+=1\n",
    "```"
   ]
  },
  {
   "cell_type": "code",
   "execution_count": 11,
   "metadata": {},
   "outputs": [
    {
     "name": "stdout",
     "output_type": "stream",
     "text": [
      "1 is 1\n",
      "2 is 2\n",
      "3 is Fizz\n",
      "4 is 4\n",
      "5 is Buzz\n",
      "6 is Fizz\n",
      "7 is 7\n",
      "8 is 8\n",
      "9 is Fizz\n",
      "10 is Buzz\n",
      "11 is 11\n",
      "12 is Fizz\n",
      "13 is 13\n",
      "14 is 14\n",
      "15 is Fizz Buzz\n",
      "16 is 16\n",
      "17 is 17\n",
      "18 is Fizz\n",
      "19 is 19\n",
      "20 is Buzz\n",
      "21 is Fizz\n",
      "22 is 22\n",
      "23 is 23\n",
      "24 is Fizz\n",
      "25 is Buzz\n",
      "26 is 26\n",
      "27 is Fizz\n",
      "28 is 28\n",
      "29 is 29\n",
      "30 is Fizz Buzz\n"
     ]
    }
   ],
   "source": [
    "number=1\n",
    "while(number <= 30):\n",
    "    if number%3==0 and number%5==0:\n",
    "        print(str(number) + \" is Fizz Buzz\")\n",
    "    elif number%3==0:\n",
    "        print(str(number) + \" is Fizz\")\n",
    "    elif number%5==0:\n",
    "        print(str(number) + \" is Buzz\")\n",
    "    else:\n",
    "        print(str(number) + \" is \" + str(number))\n",
    "    number+=1"
   ]
  },
  {
   "cell_type": "code",
   "execution_count": null,
   "metadata": {},
   "outputs": [],
   "source": []
  },
  {
   "cell_type": "code",
   "execution_count": null,
   "metadata": {},
   "outputs": [],
   "source": []
  },
  {
   "cell_type": "code",
   "execution_count": null,
   "metadata": {},
   "outputs": [],
   "source": []
  }
 ],
 "metadata": {
  "colab": {
   "collapsed_sections": [],
   "provenance": []
  },
  "kernelspec": {
   "display_name": "Python 3 (ipykernel)",
   "language": "python",
   "name": "python3"
  },
  "language_info": {
   "codemirror_mode": {
    "name": "ipython",
    "version": 3
   },
   "file_extension": ".py",
   "mimetype": "text/x-python",
   "name": "python",
   "nbconvert_exporter": "python",
   "pygments_lexer": "ipython3",
   "version": "3.7.9"
  }
 },
 "nbformat": 4,
 "nbformat_minor": 1
}
