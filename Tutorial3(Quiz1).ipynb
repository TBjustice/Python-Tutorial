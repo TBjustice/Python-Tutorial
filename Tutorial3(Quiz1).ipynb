{
 "cells": [
  {
   "cell_type": "markdown",
   "id": "a1fbf219",
   "metadata": {},
   "source": [
    "# Quiz1\n",
    "This is a Quiz. Please write a suitable program according to the instructions. You may see the tutorials or search on the Internet."
   ]
  },
  {
   "cell_type": "markdown",
   "id": "3f1c9426",
   "metadata": {},
   "source": [
    "Create a variable called ```original``` and initialize it with whatever value you choose. (e.g. -321012.34)"
   ]
  },
  {
   "cell_type": "code",
   "execution_count": 22,
   "id": "8e7137ea",
   "metadata": {},
   "outputs": [],
   "source": []
  },
  {
   "cell_type": "markdown",
   "id": "fb5475a7",
   "metadata": {},
   "source": [
    "Print **\"The value inside original is ○○\"**.<br>\n",
    "When printing, concatenate the string \"The value inside original is \" and ```original```. Note that in order to concatenate string and float, you must firstly convert ```original``` to string.<br>\n",
    "(Results will be like→The value inside original is -321012.34)"
   ]
  },
  {
   "cell_type": "code",
   "execution_count": null,
   "id": "aa44883a",
   "metadata": {},
   "outputs": [],
   "source": []
  },
  {
   "cell_type": "markdown",
   "id": "6877454a",
   "metadata": {},
   "source": [
    "Next, write if-else statement.  \n",
    "```python\n",
    "if(CONDITION):\n",
    "    #Create the variable called \"number\" and initialize it with original\n",
    "else:\n",
    "    #Create the variable called \"number\" and initialize it with -original\n",
    "```\n",
    ">Repleace CONDITION with the program meaning \"Is original a positive value?\".  \n",
    ">Repleace \"#Create the variable......\" with the code."
   ]
  },
  {
   "cell_type": "code",
   "execution_count": null,
   "id": "23fb6f54",
   "metadata": {},
   "outputs": [],
   "source": []
  },
  {
   "cell_type": "markdown",
   "id": "83105745",
   "metadata": {},
   "source": [
    "Print the ```number```. It must be bigger than or equal to 0.<br>\n",
    "(Results will be like→321012.34)"
   ]
  },
  {
   "cell_type": "code",
   "execution_count": null,
   "id": "aae69b2f",
   "metadata": {},
   "outputs": [],
   "source": []
  },
  {
   "cell_type": "markdown",
   "id": "adebd2a7",
   "metadata": {},
   "source": [
    "Next, overwrite ```number``` with \\\"```number``` rounded down to the nearest decimal\\\".<br>\n",
    "This can be done by casting float to integer. (Just like you cast string to integer)"
   ]
  },
  {
   "cell_type": "code",
   "execution_count": null,
   "id": "90058d0c",
   "metadata": {},
   "outputs": [],
   "source": []
  },
  {
   "cell_type": "markdown",
   "id": "1badaf1b",
   "metadata": {},
   "source": [
    "Print the number. It must be rounded down to the nearest decimal<br>\n",
    "(Results will be like→321012)"
   ]
  },
  {
   "cell_type": "code",
   "execution_count": null,
   "id": "d0008647",
   "metadata": {},
   "outputs": [],
   "source": []
  },
  {
   "cell_type": "markdown",
   "id": "e43627d8",
   "metadata": {},
   "source": [
    "Print the type of ```number```. It must be <class 'int'>."
   ]
  },
  {
   "cell_type": "code",
   "execution_count": null,
   "id": "77aaf4fe",
   "metadata": {},
   "outputs": [],
   "source": []
  },
  {
   "cell_type": "markdown",
   "id": "09d1dad2",
   "metadata": {},
   "source": [
    "Next, overwrite number with \"```number```\\'s last three digits\", and print it.  \n",
    "This can be done by calculating the reminder of number÷1000.  <br>\n",
    "(Results will be like→12)"
   ]
  },
  {
   "cell_type": "code",
   "execution_count": null,
   "id": "29d4f6e6",
   "metadata": {},
   "outputs": [],
   "source": []
  },
  {
   "cell_type": "markdown",
   "id": "cd93c256",
   "metadata": {},
   "source": [
    "Next, write if statement.  \n",
    "```python\n",
    "if(CONDITION):\n",
    "    #Add 100 to number\n",
    "```\n",
    ">Repleace CONDITION with the program meaning \"is the ```number``` less than 100?\".  \n",
    ">Repleace \"#Add 100 to number\" with the code."
   ]
  },
  {
   "cell_type": "code",
   "execution_count": null,
   "id": "d5a5f36f",
   "metadata": {},
   "outputs": [],
   "source": []
  },
  {
   "cell_type": "markdown",
   "id": "28e6c14e",
   "metadata": {},
   "source": [
    "Print the number.<br>\n",
    "(Results will be like→112)"
   ]
  },
  {
   "cell_type": "code",
   "execution_count": null,
   "id": "1ab4f752",
   "metadata": {},
   "outputs": [],
   "source": []
  },
  {
   "cell_type": "markdown",
   "id": "9570cc52",
   "metadata": {},
   "source": [
    "Create a **string variable** called ```text``` and initialize it with ```number```. Remember to cast int to string."
   ]
  },
  {
   "cell_type": "code",
   "execution_count": null,
   "id": "99753f61",
   "metadata": {},
   "outputs": [],
   "source": []
  },
  {
   "cell_type": "markdown",
   "id": "4a4a961e",
   "metadata": {},
   "source": [
    "Print the type of ```text```. It must be <class 'str'>."
   ]
  },
  {
   "cell_type": "code",
   "execution_count": null,
   "id": "42397388",
   "metadata": {},
   "outputs": [],
   "source": []
  },
  {
   "cell_type": "markdown",
   "id": "c7d23b78",
   "metadata": {},
   "source": [
    "Create a **string variable** called ```text2``` and initialize it with ```text*2```. Print ```text2```.<br>\n",
    "(Results will be like→112112)"
   ]
  },
  {
   "cell_type": "code",
   "execution_count": null,
   "id": "da437f7c",
   "metadata": {},
   "outputs": [],
   "source": []
  },
  {
   "cell_type": "markdown",
   "id": "468073a2",
   "metadata": {},
   "source": [
    "Create an **integer variable** called ```number2``` and initialize it with ```text2```. Remember to cast string to int.  \n",
    "After that, print the type of ```number2```. The result must be <class 'int'>"
   ]
  },
  {
   "cell_type": "code",
   "execution_count": null,
   "id": "1530741a",
   "metadata": {},
   "outputs": [],
   "source": []
  },
  {
   "cell_type": "markdown",
   "id": "2c539505",
   "metadata": {},
   "source": [
    "Divide and assign ```number2``` with 7 and print it.<br>\n",
    "(Results will be like→16016.0)"
   ]
  },
  {
   "cell_type": "code",
   "execution_count": null,
   "id": "9fada776",
   "metadata": {},
   "outputs": [],
   "source": []
  },
  {
   "cell_type": "markdown",
   "id": "cbbc494c",
   "metadata": {},
   "source": [
    "Divide and assign ```number2``` with 11 and print it.<br>\n",
    "(Results will be like→1456.0)"
   ]
  },
  {
   "cell_type": "code",
   "execution_count": null,
   "id": "9bf24764",
   "metadata": {
    "scrolled": true
   },
   "outputs": [],
   "source": []
  },
  {
   "cell_type": "markdown",
   "id": "4fb7de15",
   "metadata": {},
   "source": [
    "Divide and assign ```number2``` with 13 and print it.<br>\n",
    "(Results will be like→112)"
   ]
  },
  {
   "cell_type": "code",
   "execution_count": null,
   "id": "a34021ac",
   "metadata": {},
   "outputs": [],
   "source": []
  },
  {
   "cell_type": "markdown",
   "id": "a233e054",
   "metadata": {},
   "source": [
    "Finally, run the following code.\n",
    "```python\n",
    "print(number==number2)\n",
    "```\n",
    "If \"True\" is printed, you are all done!"
   ]
  },
  {
   "cell_type": "code",
   "execution_count": null,
   "id": "6d1a9d3f",
   "metadata": {},
   "outputs": [],
   "source": []
  }
 ],
 "metadata": {
  "kernelspec": {
   "display_name": "Python 3 (ipykernel)",
   "language": "python",
   "name": "python3"
  },
  "language_info": {
   "codemirror_mode": {
    "name": "ipython",
    "version": 3
   },
   "file_extension": ".py",
   "mimetype": "text/x-python",
   "name": "python",
   "nbconvert_exporter": "python",
   "pygments_lexer": "ipython3",
   "version": "3.7.9"
  }
 },
 "nbformat": 4,
 "nbformat_minor": 5
}
