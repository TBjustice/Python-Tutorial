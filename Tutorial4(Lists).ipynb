{
 "cells": [
  {
   "cell_type": "markdown",
   "metadata": {},
   "source": [
    "# List\n",
    "## Fundamentals of List\n",
    "List is like sequence of variables. List can be created by putting \\[\\] around data.  \n",
    "Here are the examples of creating \"lists\". First one creates the empty list. Second one creates the list that contains 3 integers. Third one creates the list of 3 strings, and forth one creates the list that contains integer, string, and float.\n",
    "```python\n",
    "list1=[]\n",
    "list2=[1,2,3]\n",
    "list3=[\"Apple\", \"Peach\", \"Orange\"]\n",
    "list4=[1, \"Apple\", 3.14]\n",
    "```"
   ]
  },
  {
   "cell_type": "code",
   "execution_count": 24,
   "metadata": {},
   "outputs": [],
   "source": [
    "list1=[]\n",
    "list2=[1,2,3]\n",
    "list3=[\"Apple\", \"Peach\", \"Orange\"]\n",
    "list4=[1, \"Apple\", 3.14]"
   ]
  },
  {
   "cell_type": "markdown",
   "metadata": {},
   "source": [
    "Let's check the type of these lists by\n",
    "```python\n",
    "print(type(list1))\n",
    "print(type(list2))\n",
    "print(type(list3))\n",
    "print(type(list4))\n",
    "```"
   ]
  },
  {
   "cell_type": "code",
   "execution_count": 25,
   "metadata": {},
   "outputs": [
    {
     "name": "stdout",
     "output_type": "stream",
     "text": [
      "<class 'list'>\n",
      "<class 'list'>\n",
      "<class 'list'>\n",
      "<class 'list'>\n"
     ]
    }
   ],
   "source": [
    "print(type(list1))\n",
    "print(type(list2))\n",
    "print(type(list3))\n",
    "print(type(list4))"
   ]
  },
  {
   "cell_type": "markdown",
   "metadata": {},
   "source": [
    "Ok, now you can know that list1, 2, 3 and 4 are \\\"lists\\\".<br>\n",
    "<br>\n",
    "Print the elements by writing ```print(list1)```, ```print(list2)```, ```print(list3)```"
   ]
  },
  {
   "cell_type": "code",
   "execution_count": 26,
   "metadata": {},
   "outputs": [
    {
     "name": "stdout",
     "output_type": "stream",
     "text": [
      "[]\n",
      "[1, 2, 3]\n",
      "['Apple', 'Peach', 'Orange']\n",
      "[1, 'Apple', 3.14]\n"
     ]
    }
   ],
   "source": [
    "print(list1)\n",
    "print(list2)\n",
    "print(list3)\n",
    "print(list4)"
   ]
  },
  {
   "cell_type": "markdown",
   "metadata": {},
   "source": [
    "Everything inside the list will be printed.<br>\n",
    "<br>\n",
    "Next, we will try to get the single datum from list. You can get the N-th datum inside the list by writing [N-1] just after the name of list.  \n",
    "For example, ```list2``` has three elements (which are 1,2, and 3). If you want to know what the first value inside list2 is, you can write ```list2[0]```.<br>\n",
    "Run the following code.\n",
    "```python\n",
    "print(list2[0])\n",
    "print(list2[1])\n",
    "print(list2[2])\n",
    "```"
   ]
  },
  {
   "cell_type": "code",
   "execution_count": 27,
   "metadata": {},
   "outputs": [
    {
     "name": "stdout",
     "output_type": "stream",
     "text": [
      "1\n",
      "2\n",
      "3\n"
     ]
    }
   ],
   "source": [
    "print(list2[0])\n",
    "print(list2[1])\n",
    "print(list2[2])"
   ]
  },
  {
   "cell_type": "markdown",
   "metadata": {},
   "source": [
    "You can see that [0] refers first element, [1] refers second, and third refers the third.<br>\n",
    "Then, guess what will happen if you try to get the forth data from list1.\n",
    "```python\n",
    "print(list2[3])\n",
    "```"
   ]
  },
  {
   "cell_type": "code",
   "execution_count": 28,
   "metadata": {},
   "outputs": [
    {
     "ename": "IndexError",
     "evalue": "list index out of range",
     "output_type": "error",
     "traceback": [
      "\u001b[1;31m---------------------------------------------------------------------------\u001b[0m",
      "\u001b[1;31mIndexError\u001b[0m                                Traceback (most recent call last)",
      "\u001b[1;32m~\\AppData\\Local\\Temp/ipykernel_6248/983154456.py\u001b[0m in \u001b[0;36m<module>\u001b[1;34m\u001b[0m\n\u001b[1;32m----> 1\u001b[1;33m \u001b[0mprint\u001b[0m\u001b[1;33m(\u001b[0m\u001b[0mlist2\u001b[0m\u001b[1;33m[\u001b[0m\u001b[1;36m3\u001b[0m\u001b[1;33m]\u001b[0m\u001b[1;33m)\u001b[0m\u001b[1;33m\u001b[0m\u001b[1;33m\u001b[0m\u001b[0m\n\u001b[0m",
      "\u001b[1;31mIndexError\u001b[0m: list index out of range"
     ]
    }
   ],
   "source": [
    "print(list2[3])"
   ]
  },
  {
   "cell_type": "markdown",
   "metadata": {},
   "source": [
    "As you see, the error is thrown. **Be careful when you use list**. I think one of the most common error message is \\\"list index out of range\\\"\n",
    "<br>\n",
    "<br>\n",
    "#### Topics \\\"What will happen when you request index that is not in the list?\\\"\n",
    "In python, you will see the message \\\"IndexError: list index out of range\\\", but what will happen in other languages?  \n",
    "<br>\n",
    "In java, when you run the following code......\n",
    "```java\n",
    "public class MainClass { \n",
    "    public static void main(String[] args) \n",
    "    { \n",
    "        int myarray[] = { 1, 2, 3 }; \n",
    "        System.out.println(myarray[3]); //0 to 2 is the valid index. \n",
    "    } \n",
    "}\n",
    "```\n",
    "You get the following error message<br>\n",
    "```\n",
    "Exception in thread \"main\" java.lang.IndexOutOfBoundsException: Index: 3, Size: 3\n",
    "    at java.util.ArrayList.rangeCheck(ArrayList.java:653)\n",
    "    at java.util.ArrayList.get(ArrayList.java:429)\n",
    "    at MainClass.main(MainClass.java:7)\n",
    "```\n",
    "Wow! what a long error message!!  \n",
    "Actually, java is famous for long error message! It is said that java programmers should buy a portrait display to read the long long error message(LOL).\n",
    "<br>\n",
    "<br>\n",
    "In C, what will happen?\n",
    "```C\n",
    "#include <stdio.h>\n",
    "int main(void){\n",
    "    int myarray[3]={1,2,3};\n",
    "    printf(\"%d\\n\", myarray[3]); //0 to 2 is the valid index. \n",
    "}\n",
    "```\n",
    "You **will NOT** get the error message, and some value will be printed!!<br>\n",
    "OUTPUT(example) : 0  \n",
    "<br>\n",
    "What is happening??  \n",
    "Actually, in C language, list does not know its own length, so it cannot throw exception. Instead, it will access to a data stored next in the memory. It may be a useless data, but if you access to some important data and overwrite it with other value...... your computer may be broken!\n",
    "<br><br>"
   ]
  },
  {
   "cell_type": "markdown",
   "metadata": {},
   "source": [
    "Back to python......!<br>\n",
    "You can overwrite the data inside the list. Run the following code.\n",
    "```python\n",
    "print(list2)\n",
    "list2[0]=10\n",
    "print(list2)\n",
    "```"
   ]
  },
  {
   "cell_type": "code",
   "execution_count": 29,
   "metadata": {},
   "outputs": [
    {
     "name": "stdout",
     "output_type": "stream",
     "text": [
      "[1, 2, 3]\n",
      "[10, 2, 3]\n"
     ]
    }
   ],
   "source": [
    "print(list2)\n",
    "list2[0]=10\n",
    "print(list2)"
   ]
  },
  {
   "cell_type": "markdown",
   "metadata": {},
   "source": [
    "The data inside list2 is overwrited."
   ]
  },
  {
   "cell_type": "markdown",
   "metadata": {},
   "source": [
    "len() returns the length of list. Write the following code.\n",
    "```python\n",
    "print(len(list1))\n",
    "print(len(list2))\n",
    "print(len(list3))\n",
    "```"
   ]
  },
  {
   "cell_type": "code",
   "execution_count": 30,
   "metadata": {},
   "outputs": [
    {
     "name": "stdout",
     "output_type": "stream",
     "text": [
      "0\n",
      "3\n",
      "3\n"
     ]
    }
   ],
   "source": [
    "print(len(list1))\n",
    "print(len(list2))\n",
    "print(len(list3))"
   ]
  },
  {
   "cell_type": "markdown",
   "metadata": {},
   "source": [
    "Next topic is the operations for list. List can be +(cancatenate) and \\*(duplicate and concatenate), like string.\n",
    "```python\n",
    "list4 = list1*2+list2+list3\n",
    "print(list4)\n",
    "```"
   ]
  },
  {
   "cell_type": "code",
   "execution_count": 31,
   "metadata": {},
   "outputs": [
    {
     "name": "stdout",
     "output_type": "stream",
     "text": [
      "[10, 2, 3]\n",
      "['Apple', 'Peach', 'Orange']\n",
      "[1, 'Apple', 3.14]\n",
      "[10, 2, 3, 'Apple', 'Peach', 'Orange', 'Apple', 'Peach', 'Orange', 1, 'Apple', 3.14]\n"
     ]
    }
   ],
   "source": [
    "print(list2)\n",
    "print(list3)\n",
    "print(list4)\n",
    "list5 = list2+list3*2+list4\n",
    "print(list5)"
   ]
  },
  {
   "cell_type": "markdown",
   "metadata": {},
   "source": [
    "New list called ```list5``` is created, and initialized by the ruselting list.  \n",
    "```list2+list3*2+list4``` is the concatenation of list2(10, 2, 3), two list3('Apple', 'Peach', 'Orange'), and list4(1, 'Apple', 3.14), the all these values are stored inside list5.  \n",
    "You can also use add assign(+=) and multiply assign(\\*=) as well."
   ]
  },
  {
   "cell_type": "code",
   "execution_count": 32,
   "metadata": {},
   "outputs": [
    {
     "name": "stdout",
     "output_type": "stream",
     "text": [
      "[10, 2, 3, 'Apple', 'Peach', 'Orange', 'Apple', 'Peach', 'Orange', 1, 'Apple', 3.14, 'I', 'like', 'dogs']\n"
     ]
    }
   ],
   "source": [
    "list5+=[\"I\", \"like\", \"dogs\"]\n",
    "print(list5)"
   ]
  },
  {
   "cell_type": "markdown",
   "metadata": {},
   "source": [
    "## in operator\n",
    "```in``` can tell us whether a certain value is included in the list. Here is an example.\n",
    "```python\n",
    "print(\"3.14\" in list5)\n",
    "print(\"Orange\" in list5)\n",
    "print(\"Happy\" in list5)\n",
    "```"
   ]
  },
  {
   "cell_type": "code",
   "execution_count": 33,
   "metadata": {},
   "outputs": [
    {
     "name": "stdout",
     "output_type": "stream",
     "text": [
      "True\n",
      "True\n",
      "False\n"
     ]
    }
   ],
   "source": [
    "print(3 in list5)\n",
    "print(\"Orange\" in list5)\n",
    "print(\"Happy\" in list5)"
   ]
  },
  {
   "cell_type": "markdown",
   "metadata": {},
   "source": [
    "## Deep Copy and Shallow Copy\n",
    "First, run the following code.\n",
    "```python\n",
    "original=[1,2,3,4,5]\n",
    "test1=original\n",
    "test2=original+[]\n",
    "test3=original.copy()\n",
    "\n",
    "print(\"original:\" + str(original))\n",
    "print(\"test1:\" + str(test1))\n",
    "print(\"test2:\" + str(test2))\n",
    "print(\"test3:\" + str(test3))\n",
    "```"
   ]
  },
  {
   "cell_type": "code",
   "execution_count": 34,
   "metadata": {},
   "outputs": [],
   "source": [
    "original=[1,2,3,4,5]\n",
    "test1=original\n",
    "test2=original+[]\n",
    "test3=original.copy()"
   ]
  },
  {
   "cell_type": "code",
   "execution_count": 35,
   "metadata": {},
   "outputs": [
    {
     "name": "stdout",
     "output_type": "stream",
     "text": [
      "original:[1, 2, 3, 4, 5]\n",
      "test1:[1, 2, 3, 4, 5]\n",
      "test2:[1, 2, 3, 4, 5]\n",
      "test3:[1, 2, 3, 4, 5]\n"
     ]
    }
   ],
   "source": [
    "print(\"original:\" + str(original))\n",
    "print(\"test1:\" + str(test1))\n",
    "print(\"test2:\" + str(test2))\n",
    "print(\"test3:\" + str(test3))"
   ]
  },
  {
   "cell_type": "markdown",
   "metadata": {},
   "source": [
    "All operations seem working in the same way, but actually there is a big difference.  \n",
    "Guess what will happen in the next code.\n",
    "```python\n",
    "test1[0]=10\n",
    "test2[0]=20\n",
    "test3[0]=30\n",
    "\n",
    "print(\"original:\" + str(original))\n",
    "print(\"test1:\" + str(test1))\n",
    "print(\"test2:\" + str(test2))\n",
    "print(\"test3:\" + str(test3))\n",
    "```"
   ]
  },
  {
   "cell_type": "code",
   "execution_count": 36,
   "metadata": {},
   "outputs": [],
   "source": [
    "test1[0]=10\n",
    "test2[0]=20\n",
    "test3[0]=30"
   ]
  },
  {
   "cell_type": "code",
   "execution_count": 37,
   "metadata": {},
   "outputs": [
    {
     "name": "stdout",
     "output_type": "stream",
     "text": [
      "original:[10, 2, 3, 4, 5]\n",
      "test1:[10, 2, 3, 4, 5]\n",
      "test2:[20, 2, 3, 4, 5]\n",
      "test3:[30, 2, 3, 4, 5]\n"
     ]
    }
   ],
   "source": [
    "print(\"original:\" + str(original))\n",
    "print(\"test1:\" + str(test1))\n",
    "print(\"test2:\" + str(test2))\n",
    "print(\"test3:\" + str(test3))"
   ]
  },
  {
   "cell_type": "markdown",
   "metadata": {},
   "source": [
    "You can see that the changes in the test1 affects to the original data.  \n",
    "Actually, when you write ```test1=original```, test1 becomes the \\\"nickname\\\" of the original list. It is not the copy of the original, so the operation to test1 is directly affected to original data. This way of copying(creating a nickname) is called \\\"Shallow Copy\\\".<br>\n",
    "```test2=original+[]``` and ```test3=original.copy()``` can copy the data inside the original list and creates another indivisial list, so the changes in test2 or test3 does not affect the original list. This way of copying(creating a new indivisual object) is called \\\"Deep Copy\\\".<br>"
   ]
  },
  {
   "cell_type": "markdown",
   "metadata": {},
   "source": [
    "## Creating a Slice\n",
    "You may want to retrieve certain length of data inside a long data, then what you need is slice.\n",
    "In the following example, I create 4 slices. What will happle? Check it out!\n",
    "```python\n",
    "longdata=[0,1,2,3,4,5,6,7,8,9,10]\n",
    "slice1=longdata[4:7]\n",
    "slice2=longdata[7:]\n",
    "slice3=longdata[:2]\n",
    "slice4=longdata[::2]\n",
    "\n",
    "print(slice1)\n",
    "print(slice2)\n",
    "print(slice3)\n",
    "print(slice4)\n",
    "```"
   ]
  },
  {
   "cell_type": "code",
   "execution_count": 5,
   "metadata": {},
   "outputs": [],
   "source": [
    "longdata=[0,1,2,3,4,5,6,7,8,9,10]\n",
    "slice1=longdata[4:7]\n",
    "slice2=longdata[7:]\n",
    "slice3=longdata[:2]\n",
    "slice4=longdata[::2]"
   ]
  },
  {
   "cell_type": "code",
   "execution_count": 6,
   "metadata": {},
   "outputs": [
    {
     "name": "stdout",
     "output_type": "stream",
     "text": [
      "[4, 5, 6]\n",
      "[7, 8, 9, 10]\n",
      "[0, 1]\n",
      "[0, 2, 4, 6, 8, 10]\n"
     ]
    }
   ],
   "source": [
    "print(slice1)\n",
    "print(slice2)\n",
    "print(slice3)\n",
    "print(slice4)"
   ]
  },
  {
   "cell_type": "markdown",
   "metadata": {},
   "source": [
    "As you see, creating a roi can be done by writing ```[S:E(:step)]```, which means ROI that starts from ```S```, ends **before** ```E```, and has a step of ```step```.<br>\n",
    "<br>\n",
    "Slices works like a deep copy, so the changes in slice will not affect to the original data.\n",
    "```python\n",
    "print(longdata)\n",
    "slice4[2]=0\n",
    "print(longdata)\n",
    "```"
   ]
  },
  {
   "cell_type": "code",
   "execution_count": 7,
   "metadata": {},
   "outputs": [
    {
     "name": "stdout",
     "output_type": "stream",
     "text": [
      "[0, 1, 2, 3, 4, 5, 6, 7, 8, 9, 10]\n",
      "[0, 1, 2, 3, 4, 5, 6, 7, 8, 9, 10]\n"
     ]
    }
   ],
   "source": [
    "print(longdata)\n",
    "slice4[2]=0\n",
    "print(longdata)"
   ]
  },
  {
   "cell_type": "markdown",
   "metadata": {},
   "source": [
    "## Many More Operations about List.\n",
    "There are many other operations about lists. I'll list up the commands, but you do not need to memorize them for now. You can just see this tutorial when you needed.<br>\n",
    ">```.append(data)``` can add ```data``` to the end of the list.  \n",
    ">```.insert(N, data)``` can add ```data``` to the index ```N``` of the list.  \n",
    ">```.pop(N)``` can delete data in the index N of the list.  \n",
    ">```.clear()``` can delete all the in the list.\n",
    "```python\n",
    "list6=[\"Apple\", \"Banana\", \"Orange\", \"Peach\"]\n",
    "print(list6)\n",
    "list6.append(\"Grapes\")\n",
    "print(list6)\n",
    "list6.insert(3, \"Melon\")\n",
    "print(list6)\n",
    "list6.pop(4)\n",
    "print(list6)\n",
    "list6.clear()\n",
    "print(list6)\n",
    "```"
   ]
  },
  {
   "cell_type": "code",
   "execution_count": 41,
   "metadata": {},
   "outputs": [
    {
     "name": "stdout",
     "output_type": "stream",
     "text": [
      "['Apple', 'Banana', 'Orange', 'Peach']\n",
      "['Apple', 'Banana', 'Orange', 'Peach', 'Grapes']\n",
      "['Apple', 'Banana', 'Orange', 'Melon', 'Peach', 'Grapes']\n",
      "['Apple', 'Banana', 'Orange', 'Melon', 'Grapes']\n",
      "[]\n"
     ]
    }
   ],
   "source": [
    "list6=[\"Apple\", \"Banana\", \"Orange\", \"Peach\"]\n",
    "print(list6)\n",
    "list6.append(\"Grapes\")\n",
    "print(list6)\n",
    "list6.insert(3, \"Melon\")\n",
    "print(list6)\n",
    "list6.pop(4)\n",
    "print(list6)\n",
    "list6.clear()\n",
    "print(list6)"
   ]
  },
  {
   "cell_type": "markdown",
   "metadata": {},
   "source": [
    ">```.index(data)``` finds the first element which is equal to ```data``` and return that index.  \n",
    ">```.remove(data)``` finds the first element which is equal to ```data``` and deletes that data.  \n",
    ">```.sort()``` can sort the data in the list.  \n",
    ">```.reverse()``` can reverse the data.  \n",
    "```python\n",
    "list6=[1,2,5,4,3,5]\n",
    "print(list6)\n",
    "print(list6.index(5))\n",
    "list6.remove(5)\n",
    "print(list6)\n",
    "list6.sort()\n",
    "print(list6)\n",
    "list6.reverse()\n",
    "print(list6)\n",
    "```"
   ]
  },
  {
   "cell_type": "code",
   "execution_count": 42,
   "metadata": {},
   "outputs": [
    {
     "name": "stdout",
     "output_type": "stream",
     "text": [
      "[1, 2, 5, 4, 3, 5]\n",
      "2\n",
      "[1, 2, 4, 3, 5]\n",
      "[1, 2, 3, 4, 5]\n",
      "[5, 4, 3, 2, 1]\n"
     ]
    }
   ],
   "source": [
    "list6=[1,2,5,4,3,5]\n",
    "print(list6)\n",
    "print(list6.index(5))\n",
    "list6.remove(5)\n",
    "print(list6)\n",
    "list6.sort()\n",
    "print(list6)\n",
    "list6.reverse()\n",
    "print(list6)"
   ]
  },
  {
   "cell_type": "markdown",
   "metadata": {},
   "source": [
    "## Touple\n",
    "Touples works like lists. The only difference is that it cannot change after the initiation.  \n",
    "Touples can be initialize by putting () around the data. Here are some examples.\n",
    "```python\n",
    "touple1=(1,2,3)\n",
    "touple2=(\"Good Morning\", \"Hello\", \"Good Night\")\n",
    "touple3=(3, 3.14, \"PI\")\n",
    "\n",
    "print(touple1[0])\n",
    "print(touple1[1])\n",
    "print(touple1[2])\n",
    "```"
   ]
  },
  {
   "cell_type": "code",
   "execution_count": 43,
   "metadata": {},
   "outputs": [],
   "source": [
    "touple1=(1,2,3)\n",
    "touple2=(\"Good Morning\", \"Hello\", \"Good Night\")\n",
    "touple3=(3, 3.14, \"PI\")"
   ]
  },
  {
   "cell_type": "code",
   "execution_count": 44,
   "metadata": {},
   "outputs": [
    {
     "name": "stdout",
     "output_type": "stream",
     "text": [
      "1\n",
      "2\n",
      "3\n"
     ]
    }
   ],
   "source": [
    "print(touple1[0])\n",
    "print(touple1[1])\n",
    "print(touple1[2])"
   ]
  },
  {
   "cell_type": "markdown",
   "metadata": {},
   "source": [
    "Do not try to overwrite the value inside touple. It'll throw an error.\n",
    "```python\n",
    "touple1[0]=10\n",
    "```"
   ]
  },
  {
   "cell_type": "code",
   "execution_count": 45,
   "metadata": {
    "scrolled": true
   },
   "outputs": [
    {
     "ename": "TypeError",
     "evalue": "'tuple' object does not support item assignment",
     "output_type": "error",
     "traceback": [
      "\u001b[1;31m---------------------------------------------------------------------------\u001b[0m",
      "\u001b[1;31mTypeError\u001b[0m                                 Traceback (most recent call last)",
      "\u001b[1;32m~\\AppData\\Local\\Temp/ipykernel_6248/1420843028.py\u001b[0m in \u001b[0;36m<module>\u001b[1;34m\u001b[0m\n\u001b[1;32m----> 1\u001b[1;33m \u001b[0mtouple1\u001b[0m\u001b[1;33m[\u001b[0m\u001b[1;36m0\u001b[0m\u001b[1;33m]\u001b[0m\u001b[1;33m=\u001b[0m\u001b[1;36m10\u001b[0m\u001b[1;33m\u001b[0m\u001b[1;33m\u001b[0m\u001b[0m\n\u001b[0m",
      "\u001b[1;31mTypeError\u001b[0m: 'tuple' object does not support item assignment"
     ]
    }
   ],
   "source": [
    "touple1[0]=10"
   ]
  },
  {
   "cell_type": "markdown",
   "metadata": {},
   "source": [
    "You can convert touple to list by ```list()```"
   ]
  },
  {
   "cell_type": "code",
   "execution_count": 46,
   "metadata": {},
   "outputs": [
    {
     "name": "stdout",
     "output_type": "stream",
     "text": [
      "<class 'tuple'>\n",
      "<class 'list'>\n"
     ]
    }
   ],
   "source": [
    "print(type(touple1))\n",
    "list1=list(touple1)\n",
    "print(type(list1))"
   ]
  },
  {
   "cell_type": "code",
   "execution_count": null,
   "metadata": {},
   "outputs": [],
   "source": []
  }
 ],
 "metadata": {
  "colab": {
   "collapsed_sections": [],
   "provenance": []
  },
  "kernelspec": {
   "display_name": "Python 3 (ipykernel)",
   "language": "python",
   "name": "python3"
  },
  "language_info": {
   "codemirror_mode": {
    "name": "ipython",
    "version": 3
   },
   "file_extension": ".py",
   "mimetype": "text/x-python",
   "name": "python",
   "nbconvert_exporter": "python",
   "pygments_lexer": "ipython3",
   "version": "3.7.9"
  }
 },
 "nbformat": 4,
 "nbformat_minor": 1
}
