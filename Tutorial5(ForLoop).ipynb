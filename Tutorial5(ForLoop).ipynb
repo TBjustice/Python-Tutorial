{
 "cells": [
  {
   "cell_type": "markdown",
   "id": "e5f2b6b8",
   "metadata": {},
   "source": [
    "# For-Loop and range-function\n",
    "## What is for-loop?\n",
    "When you want to work with each element in the list(e.g. printing each element), what shall you do?  \n",
    "You may use while loop.\n",
    "```python\n",
    "numbers=[1,1,2,3,5,8,13,21]\n",
    "index=0\n",
    "while(index < len(numbers)):\n",
    "    print(numbers[index])\n",
    "    index+=1\n",
    "```"
   ]
  },
  {
   "cell_type": "code",
   "execution_count": 1,
   "id": "032219f2",
   "metadata": {},
   "outputs": [
    {
     "name": "stdout",
     "output_type": "stream",
     "text": [
      "1\n",
      "1\n",
      "2\n",
      "3\n",
      "5\n",
      "8\n",
      "13\n",
      "21\n"
     ]
    }
   ],
   "source": [
    "numbers=[1,1,2,3,5,8,13,21]\n",
    "index=0\n",
    "while(index < len(numbers)):\n",
    "    print(numbers[index])\n",
    "    index+=1"
   ]
  },
  {
   "cell_type": "markdown",
   "id": "d0bf4a43",
   "metadata": {},
   "source": [
    "It works fine, but this way of looping does not beautiful and may bring some bugs. For example, if you forgot to write ```index+=1```, then the program does not end for ever.  \n",
    "Actually, there is a very clever way of writing this program, and is called for-loop. Write the following code.\n",
    "```python\n",
    "for number in numbers:\n",
    "    print(number)\n",
    "```"
   ]
  },
  {
   "cell_type": "code",
   "execution_count": 2,
   "id": "ce00f83d",
   "metadata": {},
   "outputs": [
    {
     "name": "stdout",
     "output_type": "stream",
     "text": [
      "1\n",
      "1\n",
      "2\n",
      "3\n",
      "5\n",
      "8\n",
      "13\n",
      "21\n"
     ]
    }
   ],
   "source": [
    "for number in numbers:\n",
    "    print(number)"
   ]
  },
  {
   "cell_type": "markdown",
   "id": "53f10ea6",
   "metadata": {},
   "source": [
    "Wow! It takes only 2-lines!<br>\n",
    "<br>\n",
    "The grammer for using for-loop looks like this.  \n",
    ">for **element** in **list**:\n",
    "\n",
    "**element** is the name of the variable which recieves each element in the **list**.\n",
    "<br><br><br>\n",
    "Here is another example of for-loop. Guess what will happen.\n",
    "```python\n",
    "for i in [0,1,2,3,4,5,6,7,8,9]:\n",
    "    text=\"\"\n",
    "    for j in [0,1,2,3,4,5,6,7,8,9]:\n",
    "        text+=str(i*j)+\",\"\n",
    "    print(text)\n",
    "```"
   ]
  },
  {
   "cell_type": "code",
   "execution_count": 4,
   "id": "cf9ccc9f",
   "metadata": {},
   "outputs": [
    {
     "name": "stdout",
     "output_type": "stream",
     "text": [
      " 0, 0, 0, 0, 0, 0, 0, 0, 0, 0,\n",
      " 0, 1, 2, 3, 4, 5, 6, 7, 8, 9,\n",
      " 0, 2, 4, 6, 8,10,12,14,16,18,\n",
      " 0, 3, 6, 9,12,15,18,21,24,27,\n",
      " 0, 4, 8,12,16,20,24,28,32,36,\n",
      " 0, 5,10,15,20,25,30,35,40,45,\n",
      " 0, 6,12,18,24,30,36,42,48,54,\n",
      " 0, 7,14,21,28,35,42,49,56,63,\n",
      " 0, 8,16,24,32,40,48,56,64,72,\n",
      " 0, 9,18,27,36,45,54,63,72,81,\n"
     ]
    }
   ],
   "source": [
    "for i in [0,1,2,3,4,5,6,7,8,9]:\n",
    "    text=\"\"\n",
    "    for j in [0,1,2,3,4,5,6,7,8,9]:\n",
    "        x=i*j\n",
    "        if(x < 10):\n",
    "            text+=\" \"\n",
    "        text+=str(x)+\",\"\n",
    "    print(text)"
   ]
  },
  {
   "cell_type": "markdown",
   "id": "3dec78de",
   "metadata": {},
   "source": [
    "```for i in [0,1,2,3,4,5,6,7,8,9]:``` means that the loop goes on while ```i``` is changing from 0 to 9.<br>\n",
    "Inside each loop, the first thing to happen is the creation of string variable called ```text```, which is initialized with no content.<br>\n",
    "Second this to occur is another for-loop. This for-loop loops while j is changing from 0 to 9.<br>\n",
    "After the 2nd for-loop has finished, ```print(text)``` runs.<br>\n",
    "<br>\n",
    "So, what is happening in the second loop?<br>\n",
    "First, it calculates ```i*j``` and put this value to ```x```.<br>\n",
    "If x is less than 10, concatenate \" \"(space) to ```text```.<br>\n",
    "After that, concatenate ```str(x)+\",\"``` to ```text```.<br>\n",
    "<br>\n",
    "Is this clear? If you cannot understand at a glance, read again and again until you completely understand.<br>\n",
    "<br>\n",
    "## range()\n",
    "When you want to make a for-loop that changes i from 0 to 30, what shall you do?<br>\n",
    "```for i in [0,1,2,3,4,5,............,30]``` works fine, but it is not practical. Instead, we use range function.\n",
    "```python\n",
    "for i in range(31):\n",
    "    print(i)\n",
    "```"
   ]
  },
  {
   "cell_type": "code",
   "execution_count": 7,
   "id": "226650dd",
   "metadata": {},
   "outputs": [
    {
     "name": "stdout",
     "output_type": "stream",
     "text": [
      "0\n",
      "1\n",
      "2\n",
      "3\n",
      "4\n",
      "5\n",
      "6\n",
      "7\n",
      "8\n",
      "9\n",
      "10\n",
      "11\n",
      "12\n",
      "13\n",
      "14\n",
      "15\n",
      "16\n",
      "17\n",
      "18\n",
      "19\n",
      "20\n",
      "21\n",
      "22\n",
      "23\n",
      "24\n",
      "25\n",
      "26\n",
      "27\n",
      "28\n",
      "29\n",
      "30\n"
     ]
    }
   ],
   "source": [
    "for i in range(31):\n",
    "    print(i)"
   ]
  },
  {
   "cell_type": "markdown",
   "id": "098d499a",
   "metadata": {},
   "source": [
    "```range(N)``` is equivalent to ```[0,1,2,3,......,N-1]```. Remember that ```range(N)``` does not coontain N. It is from 0 to **N-1**<br>\n",
    "There are other features in ```range()```. Execute the following code.\n",
    "```python\n",
    "for i in range(2,10):\n",
    "    print(i)\n",
    "\n",
    "for i in range(-10,10,2):\n",
    "    print(i)\n",
    "```"
   ]
  },
  {
   "cell_type": "code",
   "execution_count": 6,
   "id": "4f4eefbb",
   "metadata": {},
   "outputs": [
    {
     "name": "stdout",
     "output_type": "stream",
     "text": [
      "2\n",
      "3\n",
      "4\n",
      "5\n",
      "6\n",
      "7\n",
      "8\n",
      "9\n"
     ]
    }
   ],
   "source": [
    "for i in range(2,10):\n",
    "    print(i)"
   ]
  },
  {
   "cell_type": "code",
   "execution_count": 3,
   "id": "fe82ddc7",
   "metadata": {},
   "outputs": [
    {
     "name": "stdout",
     "output_type": "stream",
     "text": [
      "-10\n",
      "-8\n",
      "-6\n",
      "-4\n",
      "-2\n",
      "0\n",
      "2\n",
      "4\n",
      "6\n",
      "8\n"
     ]
    }
   ],
   "source": [
    "for i in range(-10,10,2):\n",
    "    print(i)"
   ]
  },
  {
   "cell_type": "markdown",
   "id": "054bedf2",
   "metadata": {},
   "source": [
    "```range(start,until)``` is equivalent to ```[start, start+1, start+2, ... , until-1]```.<br>\n",
    "```range(start,until,step)``` is equivalent to ```[start, start+step, start+step*2, start+step*3, ......, (until-1)]```. Remember that the last element does not exceed ```until```.<br>\n",
    "<br>\n",
    "```step``` can be a negative value. Here is the example.\n",
    "```python\n",
    "for i in range(10,-10,-3):\n",
    "    print(i)\n",
    "```"
   ]
  },
  {
   "cell_type": "code",
   "execution_count": 8,
   "id": "24f40220",
   "metadata": {},
   "outputs": [
    {
     "name": "stdout",
     "output_type": "stream",
     "text": [
      "10\n",
      "7\n",
      "4\n",
      "1\n",
      "-2\n",
      "-5\n",
      "-8\n"
     ]
    }
   ],
   "source": [
    "for i in range(10,-10,-3):\n",
    "    print(i)"
   ]
  },
  {
   "cell_type": "markdown",
   "id": "cd5f2f8a",
   "metadata": {},
   "source": [
    "## break and continue\n",
    "Inside the loop (for-loop or while-loop), the command ```break``` and ```continue``` can be used. ```break``` is used when you want the loop to end, and ```continue``` is used to jump to the start of the loop.\n",
    "```python\n",
    "for i in range(10):\n",
    "    print(i)\n",
    "    print(\"before continue\")\n",
    "    \n",
    "    if(i%3==0):\n",
    "        continue\n",
    "        \n",
    "    print(\"after continue\")\n",
    "    \n",
    "    if(i==7):\n",
    "        break\n",
    "    \n",
    "```"
   ]
  },
  {
   "cell_type": "code",
   "execution_count": 9,
   "id": "e12dbe99",
   "metadata": {},
   "outputs": [
    {
     "name": "stdout",
     "output_type": "stream",
     "text": [
      "0\n",
      "before continue\n",
      "1\n",
      "before continue\n",
      "after continue\n",
      "2\n",
      "before continue\n",
      "after continue\n",
      "3\n",
      "before continue\n",
      "4\n",
      "before continue\n",
      "after continue\n",
      "5\n",
      "before continue\n",
      "after continue\n",
      "6\n",
      "before continue\n",
      "7\n",
      "before continue\n",
      "after continue\n"
     ]
    }
   ],
   "source": [
    "for i in range(10):\n",
    "    print(i)\n",
    "    print(\"before continue\")\n",
    "\n",
    "    if(i%3==0):\n",
    "        continue\n",
    "\n",
    "    print(\"after continue\")\n",
    "\n",
    "    if(i==7):\n",
    "        break"
   ]
  },
  {
   "cell_type": "markdown",
   "id": "fd62e86a",
   "metadata": {},
   "source": [
    "You can see that when ```i``` is divisible by 3, ```print(\"after continue\")``` does not run. ```continue``` skips all the remaining line and jump back to the start of the loop.<br>\n",
    "When ```i``` is equal to 7, ```break``` statement runs and the loop is suspended."
   ]
  },
  {
   "cell_type": "code",
   "execution_count": null,
   "id": "7db495f7",
   "metadata": {},
   "outputs": [],
   "source": []
  }
 ],
 "metadata": {
  "kernelspec": {
   "display_name": "Python 3 (ipykernel)",
   "language": "python",
   "name": "python3"
  },
  "language_info": {
   "codemirror_mode": {
    "name": "ipython",
    "version": 3
   },
   "file_extension": ".py",
   "mimetype": "text/x-python",
   "name": "python",
   "nbconvert_exporter": "python",
   "pygments_lexer": "ipython3",
   "version": "3.7.9"
  }
 },
 "nbformat": 4,
 "nbformat_minor": 5
}
