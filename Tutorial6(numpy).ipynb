{
 "cells": [
  {
   "cell_type": "markdown",
   "id": "e5b192cc",
   "metadata": {},
   "source": [
    "# Numpy\n",
    "## List is Slow\n",
    "Python's list can contain all sorts of objects. Integers, floats, strings, and even lists.\n",
    "```python\n",
    "listtest=[1,3.14,\"hello\",[1,2,3]]\n",
    "print(len(listtest))\n",
    "print(listtest)\n",
    "```"
   ]
  },
  {
   "cell_type": "code",
   "execution_count": 1,
   "id": "7b54b17c",
   "metadata": {},
   "outputs": [
    {
     "name": "stdout",
     "output_type": "stream",
     "text": [
      "4\n",
      "[1, 3.14, 'hello', [1, 2, 3]]\n"
     ]
    }
   ],
   "source": [
    "listtest=[1,3.14,\"hello\",[1,2,3]]\n",
    "print(len(listtest))\n",
    "print(listtest)"
   ]
  },
  {
   "cell_type": "markdown",
   "id": "ed2d8d91",
   "metadata": {},
   "source": [
    "```listtest``` contains integer, float, string, and list. You can check its type using the following code.\n",
    "```python\n",
    "for element in listtest:\n",
    "    print(type(element))\n",
    "```"
   ]
  },
  {
   "cell_type": "code",
   "execution_count": 2,
   "id": "a3bb61ab",
   "metadata": {},
   "outputs": [
    {
     "name": "stdout",
     "output_type": "stream",
     "text": [
      "<class 'int'>\n",
      "<class 'float'>\n",
      "<class 'str'>\n",
      "<class 'list'>\n"
     ]
    }
   ],
   "source": [
    "for element in listtest:\n",
    "    print(type(element))"
   ]
  },
  {
   "cell_type": "markdown",
   "id": "6b701c95",
   "metadata": {},
   "source": [
    "You can see that each element contains its own types.<br>\n",
    "This is actually a big problem when it comes to performance. When processing an element in the list, computer has to check its type each time of the access.<br>\n",
    "For example, When you write ```element[0]*2```, the computer has to check the type of ```element[0]```, which is int, and calculates the multiplication of ```element[0]``` and 2. But when you write ```element[2]*2```, the computer recognizes that the type of ```element[2]``` is string, and calculates the concatenation of two ```element[0]```.<br>\n",
    "Likewise, python must check the type before each operation, and thus it is slow compared to other languages(like C, C++, Java).<br>\n",
    "The slow perfomance can be a big issue when you process some big data(e.g. Image Processing, Nueral Network, and other stuffs).<br>\n",
    "To overcome this issue, there is a library called \"numpy\".<br>(library≒extension,add-on)\n",
    "<br>\n",
    "## Hello, Numpy!\n",
    "To use numpy, you need to write ```import numpy```.\n",
    "```python\n",
    "import numpy\n",
    "```"
   ]
  },
  {
   "cell_type": "code",
   "execution_count": 3,
   "id": "c3718473",
   "metadata": {},
   "outputs": [],
   "source": [
    "import numpy"
   ]
  },
  {
   "cell_type": "markdown",
   "id": "c6ae2559",
   "metadata": {},
   "source": [
    "You can create array of numbers by numpy.zeros(N), which creates an array containing N zeros. Here is the sample code.\n",
    "```python\n",
    "arr_zeros=numpy.zeros(10)\n",
    "print(arr_zeros)\n",
    "```"
   ]
  },
  {
   "cell_type": "code",
   "execution_count": 4,
   "id": "09de3a9c",
   "metadata": {},
   "outputs": [
    {
     "name": "stdout",
     "output_type": "stream",
     "text": [
      "[0. 0. 0. 0. 0. 0. 0. 0. 0. 0.]\n"
     ]
    }
   ],
   "source": [
    "arr_zeros=numpy.zeros(10)\n",
    "print(arr_zeros)"
   ]
  },
  {
   "cell_type": "markdown",
   "id": "d7538fd8",
   "metadata": {},
   "source": [
    "You can also create array of numbers by the following expressions.<br>\n",
    "numpy.ones(N):Creates an array containing N ones.<br>\n",
    "numpy.arange(N):Creates an array containing 0 up to N-1.<br>\n",
    "numpy.array(list):Creates an array containing all elements in the list.<br>\n",
    "```python\n",
    "print(numpy.ones(10))\n",
    "print(numpy.arange(10))\n",
    "print(numpy.array([1,1,2,3,5,8,13,21]))\n",
    "```"
   ]
  },
  {
   "cell_type": "code",
   "execution_count": 5,
   "id": "4d108c71",
   "metadata": {},
   "outputs": [
    {
     "name": "stdout",
     "output_type": "stream",
     "text": [
      "[1. 1. 1. 1. 1. 1. 1. 1. 1. 1.]\n",
      "[0 1 2 3 4 5 6 7 8 9]\n",
      "[ 1  1  2  3  5  8 13 21]\n"
     ]
    }
   ],
   "source": [
    "print(numpy.ones(10))\n",
    "print(numpy.arange(10))\n",
    "print(numpy.array([1,1,2,3,5,8,13,21]))"
   ]
  },
  {
   "cell_type": "markdown",
   "id": "2ce170a8",
   "metadata": {},
   "source": [
    "You may think that it is a little troublesome to write ```numpy.``` each time. All programmers think the same way, and there is a way to use an abbreviation. When you import the library, you can set some abbreviation to it. Numpy is often abbreviated as np, and the way to set abbreviation is......\n",
    "```python\n",
    "import numpy as np\n",
    "```"
   ]
  },
  {
   "cell_type": "code",
   "execution_count": 6,
   "id": "3746efda",
   "metadata": {},
   "outputs": [],
   "source": [
    "import numpy as np"
   ]
  },
  {
   "cell_type": "markdown",
   "id": "d8aa175d",
   "metadata": {},
   "source": [
    "Now you can use abbreviation.\n",
    "```python\n",
    "print(np.ones(10))\n",
    "print(np.arange(10))\n",
    "print(np.array([1,1,2,3,5,8,13,21]))\n",
    "```"
   ]
  },
  {
   "cell_type": "code",
   "execution_count": 7,
   "id": "bfac76c9",
   "metadata": {},
   "outputs": [
    {
     "name": "stdout",
     "output_type": "stream",
     "text": [
      "[1. 1. 1. 1. 1. 1. 1. 1. 1. 1.]\n",
      "[0 1 2 3 4 5 6 7 8 9]\n",
      "[ 1  1  2  3  5  8 13 21]\n"
     ]
    }
   ],
   "source": [
    "print(np.ones(10))\n",
    "print(np.arange(10))\n",
    "print(np.array([1,1,2,3,5,8,13,21]))"
   ]
  },
  {
   "cell_type": "markdown",
   "id": "2db6c4bd",
   "metadata": {},
   "source": [
    "## numpy and its types\n",
    "numpy acts faster than lists, but it is designed to contain only single type. Integer only or Floats only.<br>\n",
    "Here are the types that can be contain in numpy array.<br>\n",
    "\n",
    "|Type Name|Type code|Meaning|\n",
    "|:-|:-|:-|\n",
    "|int8|i1|integer of -128 to 127|\n",
    "|int16|i2|integer of -32768 to 32767|\n",
    "|int32|i4|integer of -2147483648～2147483647|\n",
    "|int64|i8|integer of -2^63 to 2^63-1|\n",
    "|uint8|u1|integer of 0 to 255|\n",
    "|uint16|u2|integer of 0 to 65535|\n",
    "|uint32|u4|integer of 0 to 4294967295|\n",
    "|uint64|u8|integer of 0 to 2^64-1|\n",
    "|float16|f2|float of low precision|\n",
    "|float32|f4|float of middle precision|\n",
    "|float64|f8|float of high precision|\n",
    "|bool|?|True or False|\n",
    "\n",
    "To create an numpy-array of a specific type, write ```dtype=\"typecode\"``` when initialize.\n",
    "```python\n",
    "arr_zeros=np.zeros(10, dtype=\"i1\")\n",
    "arr_ones=np.ones(10, dtype=\"i2\")\n",
    "arr_arange=np.arrange(10, dtype=\"i4\")\n",
    "arr_array=np.array([1,1,2,3,5,8,13,21], dtype=\"f8\")\n",
    "```"
   ]
  },
  {
   "cell_type": "code",
   "execution_count": 8,
   "id": "b9c74365",
   "metadata": {},
   "outputs": [],
   "source": [
    "arr_zeros=np.zeros(10, dtype=\"i1\")\n",
    "arr_ones=np.ones(10, dtype=\"i2\")\n",
    "arr_arange=np.arange(10, dtype=\"i4\")\n",
    "arr_array=np.array([1,1,2,3,5,8,13,21], dtype=\"f8\")"
   ]
  },
  {
   "cell_type": "markdown",
   "id": "c3896c29",
   "metadata": {},
   "source": [
    "Check the type of each array using ```.dtype```\n",
    "```python\n",
    "print(arr_zeros.dtype)\n",
    "print(arr_ones.dtype)\n",
    "print(arr_arange.dtype)\n",
    "print(arr_array.dtype)\n",
    "```"
   ]
  },
  {
   "cell_type": "code",
   "execution_count": 9,
   "id": "f0a50c50",
   "metadata": {},
   "outputs": [
    {
     "name": "stdout",
     "output_type": "stream",
     "text": [
      "int8\n",
      "int16\n",
      "int32\n",
      "float64\n"
     ]
    }
   ],
   "source": [
    "print(arr_zeros.dtype)\n",
    "print(arr_ones.dtype)\n",
    "print(arr_arange.dtype)\n",
    "print(arr_array.dtype)"
   ]
  },
  {
   "cell_type": "markdown",
   "id": "419f7079",
   "metadata": {},
   "source": [
    "## operation to numpy-array\n",
    "numpy-array has a unique operation system.<br>\n",
    "Here is the list of operations that are allowed to numpy-array<br>\n",
    "NpArray=numpy-array , number=integer or float , N=some natural number<br>\n",
    "```NpArray[N]``` : Access to (N-1)th in NpArray(just like list)<br>\n",
    "```NpArray + number``` : Add ```number``` to each element in ```NpArray```.(Same in -, \\*, /, //, %, \\*\\*)<br>\n",
    "```NpArray + NpArray2``` : Creates an numpy array that contains ```NpArray[0]+NpArray2[0]```, ```NpArray[1]+NpArray2[1]```, ```NpArray[2]+NpArray2[2]```....... Note that the length of NpArray and NpArray2 has to be the same.(Same in -, \\*, /, //, %, \\*\\*)<br>\n",
    "```NpArray == number``` : Creates an bool numpy array that contains ```NpArray[0]==number```, ```NpArray[1]==number```, ```NpArray[2]==number```.......Note that the length of NpArray and NpArray2 has to be the same.(Same in !=, >, <, <=, >=)<br>\n",
    "```NpArray == NpArray2``` : Creates an bool numpy array that contains ```NpArray[0]==NpArray2[0]```, ```NpArray[1]==NpArray2[1]```, ```NpArray[2]==NpArray2[2]```.......(Same as !=, >, <, <=, >=)<br>\n",
    "```python\n",
    "NpArray1=np.array([1,2,4,6,8])\n",
    "NpArray2=np.array([0,2,5,6,7])\n",
    "print(NpArray1[3])\n",
    "print(NpArray1+3)\n",
    "print(NpArray1*3)\n",
    "print(NpArray1+NpArray2)\n",
    "print(NpArray1*NpArray2)\n",
    "print(NpArray1==4)\n",
    "print(NpArray1<4)\n",
    "print(NpArray1==NpArray2)\n",
    "print(NpArray1<NpArray2)\n",
    "```"
   ]
  },
  {
   "cell_type": "code",
   "execution_count": 10,
   "id": "17247cb9",
   "metadata": {},
   "outputs": [
    {
     "name": "stdout",
     "output_type": "stream",
     "text": [
      "6\n",
      "[ 4  5  7  9 11]\n",
      "[ 3  6 12 18 24]\n",
      "[ 1  4  9 12 15]\n",
      "[ 0  4 20 36 56]\n",
      "[False False  True False False]\n",
      "[ True  True False False False]\n",
      "[False  True False  True False]\n",
      "[False False  True False False]\n"
     ]
    }
   ],
   "source": [
    "NpArray1=np.array([1,2,4,6,8])\n",
    "NpArray2=np.array([0,2,5,6,7])\n",
    "print(NpArray1[3])\n",
    "print(NpArray1+3)\n",
    "print(NpArray1*3)\n",
    "print(NpArray1+NpArray2)\n",
    "print(NpArray1*NpArray2)\n",
    "print(NpArray1==4)\n",
    "print(NpArray1<4)\n",
    "print(NpArray1==NpArray2)\n",
    "print(NpArray1<NpArray2)"
   ]
  },
  {
   "cell_type": "markdown",
   "id": "d52ed58b",
   "metadata": {},
   "source": [
    "The priority of operation is the same with the normal calculation. For instance, see this code.\n",
    "```python\n",
    "NpArray3=np.arange(10)\n",
    "print(NpArray3%3-2 == 0)\n",
    "```\n",
    "When calculating ```NpArray3%3-2 == 0```, the first operation to be calculated is ```NpArray3%3```, whose result is ```[0,1,2,0,1,2,0,1,2,0]```.<br>\n",
    "Next operation is ```-2``` and the result is ```[-2,-1,0,-2,-1,0,-2,-1,0,-2]```.<br>\n",
    "Finally, python calculates ```==0```. And the result is ```[False, False, True, False, False, True, False, False, True, False]```."
   ]
  },
  {
   "cell_type": "code",
   "execution_count": 11,
   "id": "81d28ce2",
   "metadata": {},
   "outputs": [
    {
     "name": "stdout",
     "output_type": "stream",
     "text": [
      "[False False  True False False  True False False  True False]\n"
     ]
    }
   ],
   "source": [
    "NpArray3=np.arange(10)\n",
    "print(NpArray3%3-2 == 0)"
   ]
  },
  {
   "cell_type": "markdown",
   "id": "0e65b75c",
   "metadata": {},
   "source": [
    "## ROI(Region of Interest)\n",
    "There are other operation to numpy array.<br>\n",
    "```NpArray[N:M]```: Create a ROI that contains NpArray's Nth element to NpArray's (M-1)th element. Note that this is **shallow** copy.<br>\n",
    "```python\n",
    "print(NpArray3)\n",
    "\n",
    "ROI=NpArray3[3:6]\n",
    "print(ROI)\n",
    "\n",
    "ROI=10 #This code means ROI[0]=0, ROI[1]=0, ... , ROI[len(ROI)-1]=0\n",
    "print(ROI)\n",
    "\n",
    "print(NpArray3)\n",
    "```"
   ]
  },
  {
   "cell_type": "code",
   "execution_count": 12,
   "id": "b929b8da",
   "metadata": {},
   "outputs": [
    {
     "name": "stdout",
     "output_type": "stream",
     "text": [
      "[0 1 2 3 4 5 6 7 8 9]\n"
     ]
    }
   ],
   "source": [
    "NpArray3=np.arange(10)\n",
    "print(NpArray3)"
   ]
  },
  {
   "cell_type": "code",
   "execution_count": 13,
   "id": "d9401bd5",
   "metadata": {},
   "outputs": [
    {
     "name": "stdout",
     "output_type": "stream",
     "text": [
      "[3 4 5]\n"
     ]
    }
   ],
   "source": [
    "ROI=NpArray3[3:6]\n",
    "print(ROI)"
   ]
  },
  {
   "cell_type": "code",
   "execution_count": 14,
   "id": "20711c15",
   "metadata": {},
   "outputs": [
    {
     "name": "stdout",
     "output_type": "stream",
     "text": [
      "[13 14 15]\n"
     ]
    }
   ],
   "source": [
    "ROI+=10 #This code means ROI[0]+=10, ROI[1]+=10, ... , ROI[len(ROI)-1]+=10\n",
    "print(ROI)"
   ]
  },
  {
   "cell_type": "code",
   "execution_count": 15,
   "id": "420c9184",
   "metadata": {},
   "outputs": [
    {
     "name": "stdout",
     "output_type": "stream",
     "text": [
      "[ 0  1  2 13 14 15  6  7  8  9]\n"
     ]
    }
   ],
   "source": [
    "print(NpArray3)"
   ]
  },
  {
   "cell_type": "markdown",
   "id": "46acdeed",
   "metadata": {},
   "source": [
    "You can see that the changes in ROI affects the original data. This is different from list. Creating slice from list is a deep-copy, but creating ROI from NpArray is a shallow-copy.<br>\n",
    "<br>\n",
    "<br>\n",
    "Next operation to lean is creating slice using bool-Numpy-array. Check the code below.\n",
    "```python\n",
    "NpArray3=np.arange(10)\n",
    "print(NpArray3)\n",
    "BNpArray = (NpArray3%2==0)\n",
    "print(BNpArray)\n",
    "\n",
    "slice1=NpArray3[BNpArray]\n",
    "print(slice1)\n",
    "slice1+=10\n",
    "print(slice1)\n",
    "\n",
    "print(NpArray3)\n",
    "```"
   ]
  },
  {
   "cell_type": "code",
   "execution_count": 16,
   "id": "36388786",
   "metadata": {
    "scrolled": true
   },
   "outputs": [
    {
     "name": "stdout",
     "output_type": "stream",
     "text": [
      "[0 1 2 3 4 5 6 7 8 9]\n",
      "[ True False  True False  True False  True False  True False]\n"
     ]
    }
   ],
   "source": [
    "NpArray3=np.arange(10)\n",
    "print(NpArray3)\n",
    "BNpArray = (NpArray3%2==0)\n",
    "print(BNpArray)"
   ]
  },
  {
   "cell_type": "code",
   "execution_count": 17,
   "id": "506139ef",
   "metadata": {},
   "outputs": [
    {
     "name": "stdout",
     "output_type": "stream",
     "text": [
      "[0 2 4 6 8]\n",
      "[10 12 14 16 18]\n"
     ]
    }
   ],
   "source": [
    "slice1=NpArray3[BNpArray]\n",
    "print(slice1)\n",
    "slice1+=10\n",
    "print(slice1)"
   ]
  },
  {
   "cell_type": "code",
   "execution_count": 18,
   "id": "1a5bd55f",
   "metadata": {},
   "outputs": [
    {
     "name": "stdout",
     "output_type": "stream",
     "text": [
      "[0 1 2 3 4 5 6 7 8 9]\n"
     ]
    }
   ],
   "source": [
    "print(NpArray3)"
   ]
  },
  {
   "cell_type": "markdown",
   "id": "ab4bc8b1",
   "metadata": {},
   "source": [
    "**!!Attention!!**<br><br>\n",
    "If you directly do the operation, the changes affects to the original data.\n",
    "```python\n",
    "NpArray3[BNpArray]+=10\n",
    "print(NpArray3)\n",
    "```"
   ]
  },
  {
   "cell_type": "code",
   "execution_count": 19,
   "id": "c0e3a121",
   "metadata": {},
   "outputs": [
    {
     "name": "stdout",
     "output_type": "stream",
     "text": [
      "[10  1 12  3 14  5 16  7 18  9]\n"
     ]
    }
   ],
   "source": [
    "NpArray3[BNpArray]+=10\n",
    "print(NpArray3)"
   ]
  },
  {
   "cell_type": "markdown",
   "id": "bf1428e9",
   "metadata": {},
   "source": [
    "## Multi-dementional array\n",
    "We've so far check out about how to use one dimentional arrays in numpy. Next topic is the use of  multi-dementional arrays.<br>\n",
    "Numpy supports multi-dementional arrays. 2-dementional array is often used for image, and three-dementional array is often used for multipage-images.<br>\n",
    "First, let's look at how to initialize multi-dementional array.\n",
    "```python\n",
    "twoD=np.zeros((2,3),dtype=\"u8\")\n",
    "threeD=np.zeros((2,3,4),dtype=\"u8\")\n",
    "\n",
    "print(twoD)\n",
    "\n",
    "print(threeD)\n",
    "```"
   ]
  },
  {
   "cell_type": "code",
   "execution_count": 20,
   "id": "1634d16b",
   "metadata": {},
   "outputs": [],
   "source": [
    "twoD=np.zeros((2,3),dtype=\"u8\")\n",
    "threeD=np.zeros((2,3,4),dtype=\"u8\")"
   ]
  },
  {
   "cell_type": "code",
   "execution_count": 21,
   "id": "d0357467",
   "metadata": {},
   "outputs": [
    {
     "name": "stdout",
     "output_type": "stream",
     "text": [
      "[[0 0 0]\n",
      " [0 0 0]]\n"
     ]
    }
   ],
   "source": [
    "print(twoD)"
   ]
  },
  {
   "cell_type": "code",
   "execution_count": 22,
   "id": "b47892ae",
   "metadata": {},
   "outputs": [
    {
     "name": "stdout",
     "output_type": "stream",
     "text": [
      "[[[0 0 0 0]\n",
      "  [0 0 0 0]\n",
      "  [0 0 0 0]]\n",
      "\n",
      " [[0 0 0 0]\n",
      "  [0 0 0 0]\n",
      "  [0 0 0 0]]]\n"
     ]
    }
   ],
   "source": [
    "print(threeD)"
   ]
  },
  {
   "cell_type": "markdown",
   "id": "05add958",
   "metadata": {},
   "source": [
    "```twoD``` is a 2D array whose size is 2 times 3. It looks just like list that has list inside(```list2D=[ [0,0,0] , [0,0,0] ]```)<br>\n",
    "```threeD``` is initialize as a 3D array of 2 times 3 times 4.<br>\n",
    "Other way to create  multi-dementional array is to change the shape. Here is the example.<br>\n",
    "```python\n",
    "arange2D=np.arange(6).reshape(2,3)\n",
    "print(arange2D)\n",
    "\n",
    "arange3D=np.arange(24).reshape(2,3,4)\n",
    "print(arange3D)\n",
    "```"
   ]
  },
  {
   "cell_type": "code",
   "execution_count": 23,
   "id": "76eef3c8",
   "metadata": {},
   "outputs": [
    {
     "name": "stdout",
     "output_type": "stream",
     "text": [
      "[[0 1 2]\n",
      " [3 4 5]]\n"
     ]
    }
   ],
   "source": [
    "arange2D=np.arange(6).reshape(2,3)\n",
    "print(arange2D)"
   ]
  },
  {
   "cell_type": "code",
   "execution_count": 24,
   "id": "cdceb811",
   "metadata": {},
   "outputs": [
    {
     "name": "stdout",
     "output_type": "stream",
     "text": [
      "[[[ 0  1  2  3]\n",
      "  [ 4  5  6  7]\n",
      "  [ 8  9 10 11]]\n",
      "\n",
      " [[12 13 14 15]\n",
      "  [16 17 18 19]\n",
      "  [20 21 22 23]]]\n"
     ]
    }
   ],
   "source": [
    "arange3D=np.arange(24).reshape(2,3,4)\n",
    "print(arange3D)"
   ]
  },
  {
   "attachments": {
    "image.png": {
     "image/png": "[encoded data removed]"
    }
   },
   "cell_type": "markdown",
   "id": "07753b93",
   "metadata": {},
   "source": [
    "```np.arange(6)``` will create 1D array of ```[0 1 2 3 4 5 6]```, and when it is reshaped, it changes its shape to 2D-array.<br>\n",
    "<br>\n",
    "Next topic is how the operation works to 2D-array. It is a little difficult, so read again and again until you fully understand.<br>\n",
    "```arange3D[0]``` access to the first plane to the list.<br>\n",
    "```arange3D[0,1]``` access to the second row in the first plane to the list.<br>\n",
    "```arange3D[0,1,2]``` access to the third column in the second row in the first plane to the list.<br>\n",
    "![image.png](attachment:image.png)\n",
    "```python\n",
    "print(arange3D[0])\n",
    "print(arange3D[0,1])\n",
    "print(arange3D[0,1,2])\n",
    "```"
   ]
  },
  {
   "cell_type": "code",
   "execution_count": 25,
   "id": "afc4d80c",
   "metadata": {},
   "outputs": [
    {
     "name": "stdout",
     "output_type": "stream",
     "text": [
      "[[ 0  1  2  3]\n",
      " [ 4  5  6  7]\n",
      " [ 8  9 10 11]]\n"
     ]
    }
   ],
   "source": [
    "print(arange3D[0])"
   ]
  },
  {
   "cell_type": "code",
   "execution_count": 26,
   "id": "d1e17d18",
   "metadata": {},
   "outputs": [
    {
     "name": "stdout",
     "output_type": "stream",
     "text": [
      "[4 5 6 7]\n"
     ]
    }
   ],
   "source": [
    "print(arange3D[0,1])"
   ]
  },
  {
   "cell_type": "code",
   "execution_count": 27,
   "id": "c7c03665",
   "metadata": {},
   "outputs": [
    {
     "name": "stdout",
     "output_type": "stream",
     "text": [
      "6\n"
     ]
    }
   ],
   "source": [
    "print(arange3D[0,1,2])"
   ]
  },
  {
   "cell_type": "markdown",
   "id": "2946e122",
   "metadata": {},
   "source": [
    "In 3D array, ```arrayname[Z,Y,X]``` refers to X colum in the Y row in the Z plane. Be careful, the order is NOT X→Y→Z! In numpy, the order is **Z→Y→X**.<br>\n",
    "In 2D array, the order is **Y→X**.<br>\n",
    "<br>\n",
    "You can also create roi by writing ```arrayname[Zmin:Zmax , Ymin:Ymax , Xmin:Xmax]```.\n",
    "```python\n",
    "arange3D=np.arange(24).reshape(2,3,4)\n",
    "print(arange3D)\n",
    "\n",
    "ROI = arange3D[0,0:2,2:4]\n",
    "print(ROI)\n",
    "\n",
    "ROI+=10\n",
    "print(ROI)\n",
    "\n",
    "print(arange3D)\n",
    "```"
   ]
  },
  {
   "cell_type": "code",
   "execution_count": 28,
   "id": "d5a538af",
   "metadata": {},
   "outputs": [
    {
     "name": "stdout",
     "output_type": "stream",
     "text": [
      "[[[ 0  1  2  3]\n",
      "  [ 4  5  6  7]\n",
      "  [ 8  9 10 11]]\n",
      "\n",
      " [[12 13 14 15]\n",
      "  [16 17 18 19]\n",
      "  [20 21 22 23]]]\n"
     ]
    }
   ],
   "source": [
    "arange3D=np.arange(24).reshape(2,3,4)\n",
    "print(arange3D)"
   ]
  },
  {
   "cell_type": "code",
   "execution_count": 29,
   "id": "521722d3",
   "metadata": {},
   "outputs": [
    {
     "name": "stdout",
     "output_type": "stream",
     "text": [
      "[[2 3]\n",
      " [6 7]]\n"
     ]
    }
   ],
   "source": [
    "ROI = arange3D[0,0:2,2:4]\n",
    "print(ROI)"
   ]
  },
  {
   "cell_type": "code",
   "execution_count": 30,
   "id": "04f38939",
   "metadata": {},
   "outputs": [
    {
     "name": "stdout",
     "output_type": "stream",
     "text": [
      "[[12 13]\n",
      " [16 17]]\n"
     ]
    }
   ],
   "source": [
    "ROI+=10\n",
    "print(ROI)"
   ]
  },
  {
   "cell_type": "code",
   "execution_count": 31,
   "id": "39b5324f",
   "metadata": {},
   "outputs": [
    {
     "name": "stdout",
     "output_type": "stream",
     "text": [
      "[[[ 0  1 12 13]\n",
      "  [ 4  5 16 17]\n",
      "  [ 8  9 10 11]]\n",
      "\n",
      " [[12 13 14 15]\n",
      "  [16 17 18 19]\n",
      "  [20 21 22 23]]]\n"
     ]
    }
   ],
   "source": [
    "print(arange3D)"
   ]
  },
  {
   "cell_type": "markdown",
   "id": "ba7bcb41",
   "metadata": {},
   "source": [
    "You can see that changes in ROI affects the original data, so this is shallow copy."
   ]
  },
  {
   "cell_type": "code",
   "execution_count": null,
   "id": "fa0a7b59",
   "metadata": {},
   "outputs": [],
   "source": []
  },
  {
   "cell_type": "code",
   "execution_count": null,
   "id": "db68945c",
   "metadata": {},
   "outputs": [],
   "source": []
  },
  {
   "cell_type": "code",
   "execution_count": null,
   "id": "760bfd69",
   "metadata": {},
   "outputs": [],
   "source": []
  }
 ],
 "metadata": {
  "kernelspec": {
   "display_name": "Python 3 (ipykernel)",
   "language": "python",
   "name": "python3"
  },
  "language_info": {
   "codemirror_mode": {
    "name": "ipython",
    "version": 3
   },
   "file_extension": ".py",
   "mimetype": "text/x-python",
   "name": "python",
   "nbconvert_exporter": "python",
   "pygments_lexer": "ipython3",
   "version": "3.7.9"
  }
 },
 "nbformat": 4,
 "nbformat_minor": 5
}
