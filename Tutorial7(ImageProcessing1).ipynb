{
 "cells": [
  {
   "cell_type": "markdown",
   "id": "e38971e1",
   "metadata": {},
   "source": [
    "# ImageProcessing1\n",
    "## Load Image\n",
    "In order to load image from a file, you need to import library. The library in need is called \"scikit-image\".<br>\n",
    "\"scikit-image\"(or skimage) is a collection of many features relating to scientific image processing, and many of the features are saved to sub directories of skimage. Input/output library is save to skimage.io, so you have to import like the following code.\n",
    "```python\n",
    "import skimage.io as ski\n",
    "```"
   ]
  },
  {
   "cell_type": "code",
   "execution_count": 2,
   "id": "6a89b2a5",
   "metadata": {},
   "outputs": [],
   "source": [
    "import skimage.io as ski"
   ]
  },
  {
   "cell_type": "markdown",
   "id": "a9864f4e",
   "metadata": {},
   "source": [
    "To read image, use ```skimage.io.imread(filename)```. ```filename``` is a string of filename. It can be both relative path or absolute path.<br>\n",
    "```python\n",
    "img=ski.imread(\"testimage.tif\")\n",
    "```"
   ]
  },
  {
   "cell_type": "code",
   "execution_count": 3,
   "id": "478cb30e",
   "metadata": {},
   "outputs": [],
   "source": [
    "img=ski.imread(\"testimage.tif\")"
   ]
  },
  {
   "cell_type": "markdown",
   "id": "1362ea84",
   "metadata": {},
   "source": [
    "Print the image using print().<br>\n",
    "Image is processed as a 2-dementional numpy array in python, thus printing image will show the array of numbers.\n",
    "```python\n",
    "print(img)\n",
    "```"
   ]
  },
  {
   "cell_type": "code",
   "execution_count": 4,
   "id": "392a43b0",
   "metadata": {
    "scrolled": true
   },
   "outputs": [
    {
     "name": "stdout",
     "output_type": "stream",
     "text": [
      "[[ 64  66  68 ... 122 124 126]\n",
      " [ 66  68  70 ... 124 126 128]\n",
      " [ 68  70  72 ... 126 128 130]\n",
      " ...\n",
      " [122 124 126 ... 180 182 184]\n",
      " [124 126 128 ... 182 184 186]\n",
      " [126 128 130 ... 184 186 188]]\n"
     ]
    }
   ],
   "source": [
    "print(img)"
   ]
  },
  {
   "cell_type": "markdown",
   "id": "3154bae0",
   "metadata": {},
   "source": [
    "Check the type of ```img```. It must be <class 'numpy.ndarray'>.\n",
    "```python\n",
    "print(type(img))\n",
    "```"
   ]
  },
  {
   "cell_type": "code",
   "execution_count": 5,
   "id": "21eba1a1",
   "metadata": {},
   "outputs": [
    {
     "name": "stdout",
     "output_type": "stream",
     "text": [
      "<class 'numpy.ndarray'>\n"
     ]
    }
   ],
   "source": [
    "print(type(img))"
   ]
  },
  {
   "cell_type": "markdown",
   "id": "14d4b4fa",
   "metadata": {},
   "source": [
    "Check the ```img.dtype```. This image is saved as 8-bit, so the dtype must be uint8.\n",
    "```python\n",
    "print(img.dtype)\n",
    "```"
   ]
  },
  {
   "cell_type": "code",
   "execution_count": 6,
   "id": "110991bb",
   "metadata": {},
   "outputs": [
    {
     "name": "stdout",
     "output_type": "stream",
     "text": [
      "uint8\n"
     ]
    }
   ],
   "source": [
    "print(img.dtype)"
   ]
  },
  {
   "cell_type": "markdown",
   "id": "6d415589",
   "metadata": {},
   "source": [
    "## Save Image\n",
    "You can save the image by ```skimage.io.imsave(filename)```. ```filename``` is a string of filename. It can be both relative path or absolute path.<br>\n",
    "```python\n",
    "ski.imsave(\"result.tif\", img)\n",
    "```"
   ]
  },
  {
   "cell_type": "code",
   "execution_count": 7,
   "id": "17c12d5c",
   "metadata": {},
   "outputs": [],
   "source": [
    "ski.imsave(\"result.tif\", img)"
   ]
  },
  {
   "cell_type": "markdown",
   "id": "d9f021b5",
   "metadata": {},
   "source": [
    "## Simple Image Processing(With ROI)\n",
    "You understand that ```img``` is numpy-array. So, you can now do the image processing just like to modify numpy-array.<br>\n",
    "First, let's create a ROI and fill that ROI with zero.\n",
    "```python\n",
    "ROI=img[14:18,14:18]\n",
    "print(ROI)\n",
    "```"
   ]
  },
  {
   "cell_type": "code",
   "execution_count": 8,
   "id": "28e4dd4e",
   "metadata": {},
   "outputs": [
    {
     "name": "stdout",
     "output_type": "stream",
     "text": [
      "[[120 122 124 126]\n",
      " [122 124 126 128]\n",
      " [124 126 128 130]\n",
      " [126 128 130 132]]\n"
     ]
    }
   ],
   "source": [
    "ROI=img[14:18,14:18]\n",
    "print(ROI)"
   ]
  },
  {
   "cell_type": "markdown",
   "id": "49eab44a",
   "metadata": {},
   "source": [
    "Next, we fill the ROI with 0.<br>\n",
    "You can do this by writing ```ROI=numpy.zeros((4,4))```, but there is another way to do this. It is multiplying 0. This can convert all numbers in ROI to 0.<br>\n",
    "Note that ```ROI``` is created as a **shallow-copy** of the original ```img```, so the calculation to ```ROI``` will change ```img``` as well.\n",
    "```python\n",
    "ROI*=0\n",
    "```"
   ]
  },
  {
   "cell_type": "code",
   "execution_count": 9,
   "id": "0a7624da",
   "metadata": {},
   "outputs": [],
   "source": [
    "ROI*=0"
   ]
  },
  {
   "cell_type": "markdown",
   "id": "54027ab4",
   "metadata": {},
   "source": [
    "Save the image with the name of \"result.tif\".(This will overwrite and save the image).\n",
    "```python\n",
    "ski.imsave(\"result.tif\", img)\n",
    "```"
   ]
  },
  {
   "cell_type": "code",
   "execution_count": 10,
   "id": "17860545",
   "metadata": {},
   "outputs": [],
   "source": [
    "ski.imsave(\"result.tif\", img)"
   ]
  },
  {
   "cell_type": "markdown",
   "id": "86b36fe3",
   "metadata": {},
   "source": [
    "Open \"result.tif\" with your image-viewer. You can see that the image has a black rectangle in the center."
   ]
  },
  {
   "cell_type": "markdown",
   "id": "63a6fd6f",
   "metadata": {},
   "source": [
    "## Changing the Contranst of Image\n",
    "Reload testimage with\n",
    "```python\n",
    "img=ski.imread(\"testimage.tif\")\n",
    "```"
   ]
  },
  {
   "cell_type": "code",
   "execution_count": 11,
   "id": "38b04c56",
   "metadata": {},
   "outputs": [],
   "source": [
    "img=ski.imread(\"testimage.tif\")"
   ]
  },
  {
   "cell_type": "markdown",
   "id": "65a8d7d4",
   "metadata": {},
   "source": [
    "Numpy has some statistical functions, and amoung them are ```.min()``` and ```.max()```. These functions can find minimal, maximal number in the numpy-array, respectivly.\n",
    "```python\n",
    "minPixel=img.min()\n",
    "maxPixel=img.max()\n",
    "print(minPixel)\n",
    "print(maxPixel)\n",
    "```"
   ]
  },
  {
   "cell_type": "code",
   "execution_count": 12,
   "id": "32ece1cc",
   "metadata": {},
   "outputs": [
    {
     "name": "stdout",
     "output_type": "stream",
     "text": [
      "64\n",
      "188\n"
     ]
    }
   ],
   "source": [
    "minPixel=img.min()\n",
    "maxPixel=img.max()\n",
    "print(minPixel)\n",
    "print(maxPixel)"
   ]
  },
  {
   "cell_type": "markdown",
   "id": "de616720",
   "metadata": {},
   "source": [
    "The darkest pixel in testimage.tif is 64, and the lightest is 188.\n",
    "To create the high-contrast image from original image, we should convert 64 to 0, and 188 to 255. We do this by......\n",
    ">Subtract 188 from each pixel. ```newimg=img-minPixel```<br>\n",
    ">Multiply 255/(maxPixel-minPixel) to each pixel. ```scale=(255/(maxPixel-minPixel))``` and ```newimg=newimg*scale```<br>"
   ]
  },
  {
   "cell_type": "code",
   "execution_count": 13,
   "id": "acffa467",
   "metadata": {},
   "outputs": [],
   "source": [
    "scale=(255/(maxPixel-minPixel))\n",
    "newimg=img-minPixel\n",
    "newimg=newimg*scale"
   ]
  },
  {
   "cell_type": "markdown",
   "id": "3ce0210a",
   "metadata": {},
   "source": [
    "OK, you can now have the high-contrast image!<br>\n",
    "All done? Actually, no.<br>\n",
    "check the dtype of ```newimage```.\n",
    "```python\n",
    "print(newimg.dtype)\n",
    "```"
   ]
  },
  {
   "cell_type": "code",
   "execution_count": 14,
   "id": "994c074a",
   "metadata": {
    "scrolled": true
   },
   "outputs": [
    {
     "name": "stdout",
     "output_type": "stream",
     "text": [
      "float64\n"
     ]
    }
   ],
   "source": [
    "print(newimg.dtype)"
   ]
  },
  {
   "cell_type": "markdown",
   "id": "43a7e016",
   "metadata": {},
   "source": [
    "The type is now float64! In this format, you cannot save it! (It must be uint8)<br>\n",
    "But why? What makes the image-type to change? The committer is ```newimg=newimg*scale```. In this calculation, you are multipling uint8 array and float. This will automatically convert the type of numpy-array to a suitable type for calculation.<br>\n",
    "<br>\n",
    "So, what shall we do? We must convert the type by using ```.astype(code)```. This will change the datatype of array.\n",
    "```python\n",
    "newimg=newimg.astype(\"u1\")\n",
    "print(newimg.dtype)\n",
    "```"
   ]
  },
  {
   "cell_type": "code",
   "execution_count": 15,
   "id": "d7cc3a24",
   "metadata": {},
   "outputs": [
    {
     "name": "stdout",
     "output_type": "stream",
     "text": [
      "uint8\n"
     ]
    }
   ],
   "source": [
    "newimg=newimg.astype(\"u1\")\n",
    "print(newimg.dtype)"
   ]
  },
  {
   "cell_type": "markdown",
   "id": "2819d17d",
   "metadata": {},
   "source": [
    "Ok, the type is now \"uint8\". Now you get the high-contrast image. Save it by running\n",
    "```python\n",
    "ski.imsave(\"result.tif\", newimg)\n",
    "```"
   ]
  },
  {
   "cell_type": "code",
   "execution_count": 16,
   "id": "f149aed7",
   "metadata": {},
   "outputs": [],
   "source": [
    "ski.imsave(\"result.tif\", newimg)"
   ]
  },
  {
   "cell_type": "markdown",
   "id": "550fbe79",
   "metadata": {},
   "source": [
    "Open \"result.tif\" with your image-viewer. You can see that the image becomes high-contrasted."
   ]
  },
  {
   "cell_type": "code",
   "execution_count": null,
   "id": "c4618c99",
   "metadata": {},
   "outputs": [],
   "source": []
  }
 ],
 "metadata": {
  "kernelspec": {
   "display_name": "Python 3 (ipykernel)",
   "language": "python",
   "name": "python3"
  },
  "language_info": {
   "codemirror_mode": {
    "name": "ipython",
    "version": 3
   },
   "file_extension": ".py",
   "mimetype": "text/x-python",
   "name": "python",
   "nbconvert_exporter": "python",
   "pygments_lexer": "ipython3",
   "version": "3.7.9"
  }
 },
 "nbformat": 4,
 "nbformat_minor": 5
}
