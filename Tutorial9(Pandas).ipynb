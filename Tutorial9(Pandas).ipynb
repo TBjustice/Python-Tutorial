{
 "cells": [
  {
   "cell_type": "markdown",
   "id": "158d9cdd",
   "metadata": {},
   "source": [
    "# Dictionary\n",
    "## Dictionary in Python\n",
    "First of all, what is dictionary? Well, it is a book about words, and if you search a word in a dictionary, you can find its meaning.<br>\n",
    "Dictionary in Python is just like a dictionary. See the following code.\n",
    "```python\n",
    "fruitDict={\n",
    "    \"apple\":\"Red, and sweet fruit.\",\n",
    "    \"orange\":\"Sweet and a little sour fruit. Its color is orange.\",\n",
    "    \"peach\":\"Pink, and sweet fruit.\"\n",
    "}\n",
    "print(fruitDict)\n",
    "```"
   ]
  },
  {
   "cell_type": "code",
   "execution_count": 19,
   "id": "5377e0b3",
   "metadata": {},
   "outputs": [
    {
     "name": "stdout",
     "output_type": "stream",
     "text": [
      "{'apple': 'Red, and sweet fruit.', 'orange': 'Sweet and a little sour fruit. Its color is orange.', 'peach': 'Pink, and sweet fruit.'}\n"
     ]
    }
   ],
   "source": [
    "fruitDict={\n",
    "    \"apple\":\"Red, and sweet fruit.\",\n",
    "    \"orange\":\"Sweet and a little sour fruit. Its color is orange.\",\n",
    "    \"peach\":\"Pink, and sweet fruit.\"\n",
    "}\n",
    "print(fruitDict)"
   ]
  },
  {
   "cell_type": "markdown",
   "id": "1fe70414",
   "metadata": {},
   "source": [
    "Ok, now I can make a dictionary about a fruit.<br>\n",
    "You can search a word by using brackets.\n",
    "```python\n",
    "print(fruitDict[\"apple\"])\n",
    "```"
   ]
  },
  {
   "cell_type": "code",
   "execution_count": 20,
   "id": "4cc3edbf",
   "metadata": {},
   "outputs": [
    {
     "name": "stdout",
     "output_type": "stream",
     "text": [
      "Red, and sweet fruit.\n"
     ]
    }
   ],
   "source": [
    "print(fruitDict[\"apple\"])"
   ]
  },
  {
   "cell_type": "markdown",
   "id": "89807cb9",
   "metadata": {},
   "source": [
    "Use ```in``` to check if the word is included in the dictionary.\n",
    "```python\n",
    "print(\"apple\" in fruitDict)\n",
    "print(\"banana\" in fruitDict)\n",
    "```"
   ]
  },
  {
   "cell_type": "code",
   "execution_count": 21,
   "id": "4452cb4b",
   "metadata": {},
   "outputs": [
    {
     "name": "stdout",
     "output_type": "stream",
     "text": [
      "True\n",
      "False\n"
     ]
    }
   ],
   "source": [
    "print(\"apple\" in fruitDict)\n",
    "print(\"banana\" in fruitDict)"
   ]
  },
  {
   "cell_type": "markdown",
   "id": "de850353",
   "metadata": {},
   "source": [
    "Just write ```fruitDict[\"banana\"]=\"......\"``` to add explanation of banana."
   ]
  },
  {
   "cell_type": "code",
   "execution_count": 22,
   "id": "81dcb602",
   "metadata": {},
   "outputs": [],
   "source": [
    "fruitDict[\"banana\"]=\"A yellow fruit.(It is sometimes recognized as a vegetable)\""
   ]
  },
  {
   "cell_type": "markdown",
   "id": "7c0cabc0",
   "metadata": {},
   "source": [
    "Now the explanation about banana is saved in the dictionary.\n",
    "```python\n",
    "print(fruitDict)\n",
    "```"
   ]
  },
  {
   "cell_type": "code",
   "execution_count": 23,
   "id": "b651f873",
   "metadata": {},
   "outputs": [
    {
     "name": "stdout",
     "output_type": "stream",
     "text": [
      "{'apple': 'Red, and sweet fruit.', 'orange': 'Sweet and a little sour fruit. Its color is orange.', 'peach': 'Pink, and sweet fruit.', 'banana': 'A yellow fruit.(It is sometimes recognized as a vegetable)'}\n"
     ]
    }
   ],
   "source": [
    "print(fruitDict)"
   ]
  },
  {
   "cell_type": "markdown",
   "id": "b7b01559",
   "metadata": {},
   "source": [
    "The key-word and explanation does not need to be a string. It can be a number or other objects.\n",
    "```python\n",
    "num_str={1:\"Hello\", 4:\"Bye\", 5:\"Ok\"}\n",
    "print(num_str)\n",
    "print(num_str[4])\n",
    "print(3 in num_str)\n",
    "num_str[3]=\"Yes\"\n",
    "print(num_str)\n",
    "\n",
    "num_num={1:2, 4:6, 7:8}\n",
    "print(num_num)\n",
    "print(num_num[4])\n",
    "print(3 in num_num)\n",
    "num_num[3]=0\n",
    "print(num_num)\n",
    "```"
   ]
  },
  {
   "cell_type": "code",
   "execution_count": 24,
   "id": "ba7f8db5",
   "metadata": {},
   "outputs": [
    {
     "name": "stdout",
     "output_type": "stream",
     "text": [
      "{1: 'Hello', 4: 'Bye', 5: 'Ok'}\n",
      "Bye\n",
      "False\n",
      "{1: 'Hello', 4: 'Bye', 5: 'Ok', 3: 'Yes'}\n"
     ]
    }
   ],
   "source": [
    "num_str={1:\"Hello\", 4:\"Bye\", 5:\"Ok\"}\n",
    "print(num_str)\n",
    "print(num_str[4])\n",
    "print(3 in num_str)\n",
    "num_str[3]=\"Yes\"\n",
    "print(num_str)"
   ]
  },
  {
   "cell_type": "code",
   "execution_count": 25,
   "id": "f0eac136",
   "metadata": {},
   "outputs": [
    {
     "name": "stdout",
     "output_type": "stream",
     "text": [
      "{1: 2, 4: 6, 7: 8}\n",
      "6\n",
      "False\n",
      "{1: 2, 4: 6, 7: 8, 3: 0}\n"
     ]
    }
   ],
   "source": [
    "num_num={1:2, 4:6, 7:8}\n",
    "print(num_num)\n",
    "print(num_num[4])\n",
    "print(3 in num_num)\n",
    "num_num[3]=0\n",
    "print(num_num)"
   ]
  },
  {
   "cell_type": "markdown",
   "id": "bb197ce0",
   "metadata": {},
   "source": [
    "# Pandas\n",
    "## Reading a Table\n",
    "Table is of course, one of the ways to visualize data. Some data are saved as table-like data, and python has a way of reading and processing them. <br>\n",
    "I created a sample data shown below and saved as csv.\n",
    "\n",
    "|name|gender|sleepingTime|\n",
    "|-|-|-|\n",
    "|Alice|F|8|\n",
    "|Bob|M|6|\n",
    "|Isabella|F|7.5|\n",
    "|Olivia|F|6.5|\n",
    "|Arthur|M|7|\n",
    "|Owen|M|7.5|\n",
    "\n",
    "Reading tablelike-data requires library called **pandas**. Import this library as pd.\n",
    "```python\n",
    "import pandas as pd\n",
    "```"
   ]
  },
  {
   "cell_type": "code",
   "execution_count": 50,
   "id": "8b8f168c",
   "metadata": {},
   "outputs": [],
   "source": [
    "import pandas as pd"
   ]
  },
  {
   "cell_type": "markdown",
   "id": "f3c25b7d",
   "metadata": {},
   "source": [
    "Csv-file can be read using ```pandas.read_csv(filename)```. ```filename``` can be both relative path or absolute path.\n",
    "```python\n",
    "sleeptime=pd.read_csv(\"TimeOfSleep.csv\")\n",
    "```"
   ]
  },
  {
   "cell_type": "code",
   "execution_count": 51,
   "id": "b06833ec",
   "metadata": {},
   "outputs": [],
   "source": [
    "sleeptime=pd.read_csv(\"TimeOfSleep.csv\")"
   ]
  },
  {
   "cell_type": "markdown",
   "id": "eedd689d",
   "metadata": {},
   "source": [
    "Print ```sleeptime```.\n",
    "```python\n",
    "print(sleeptime)\n",
    "```"
   ]
  },
  {
   "cell_type": "code",
   "execution_count": 52,
   "id": "d900b5f0",
   "metadata": {},
   "outputs": [
    {
     "name": "stdout",
     "output_type": "stream",
     "text": [
      "       name gender  sleepingTime\n",
      "0     Alice      F           8.0\n",
      "1       Bob      M           6.0\n",
      "2  Isabella      F           7.5\n",
      "3    Olivia      F           6.5\n",
      "4    Arthur      M           7.0\n",
      "5      Owen      M           7.5\n"
     ]
    }
   ],
   "source": [
    "print(sleeptime)"
   ]
  },
  {
   "cell_type": "markdown",
   "id": "5906377b",
   "metadata": {},
   "source": [
    "If you are using jupyter-notebook or google-colab, you may abbreviate ```print``` and just run ```sleeptime```.\n",
    "```python\n",
    "sleeptime\n",
    "```"
   ]
  },
  {
   "cell_type": "code",
   "execution_count": 53,
   "id": "65de66fa",
   "metadata": {},
   "outputs": [
    {
     "data": {
      "text/html": [
       "<div>\n",
       "<style scoped>\n",
       "    .dataframe tbody tr th:only-of-type {\n",
       "        vertical-align: middle;\n",
       "    }\n",
       "\n",
       "    .dataframe tbody tr th {\n",
       "        vertical-align: top;\n",
       "    }\n",
       "\n",
       "    .dataframe thead th {\n",
       "        text-align: right;\n",
       "    }\n",
       "</style>\n",
       "<table border=\"1\" class=\"dataframe\">\n",
       "  <thead>\n",
       "    <tr style=\"text-align: right;\">\n",
       "      <th></th>\n",
       "      <th>name</th>\n",
       "      <th>gender</th>\n",
       "      <th>sleepingTime</th>\n",
       "    </tr>\n",
       "  </thead>\n",
       "  <tbody>\n",
       "    <tr>\n",
       "      <th>0</th>\n",
       "      <td>Alice</td>\n",
       "      <td>F</td>\n",
       "      <td>8.0</td>\n",
       "    </tr>\n",
       "    <tr>\n",
       "      <th>1</th>\n",
       "      <td>Bob</td>\n",
       "      <td>M</td>\n",
       "      <td>6.0</td>\n",
       "    </tr>\n",
       "    <tr>\n",
       "      <th>2</th>\n",
       "      <td>Isabella</td>\n",
       "      <td>F</td>\n",
       "      <td>7.5</td>\n",
       "    </tr>\n",
       "    <tr>\n",
       "      <th>3</th>\n",
       "      <td>Olivia</td>\n",
       "      <td>F</td>\n",
       "      <td>6.5</td>\n",
       "    </tr>\n",
       "    <tr>\n",
       "      <th>4</th>\n",
       "      <td>Arthur</td>\n",
       "      <td>M</td>\n",
       "      <td>7.0</td>\n",
       "    </tr>\n",
       "    <tr>\n",
       "      <th>5</th>\n",
       "      <td>Owen</td>\n",
       "      <td>M</td>\n",
       "      <td>7.5</td>\n",
       "    </tr>\n",
       "  </tbody>\n",
       "</table>\n",
       "</div>"
      ],
      "text/plain": [
       "       name gender  sleepingTime\n",
       "0     Alice      F           8.0\n",
       "1       Bob      M           6.0\n",
       "2  Isabella      F           7.5\n",
       "3    Olivia      F           6.5\n",
       "4    Arthur      M           7.0\n",
       "5      Owen      M           7.5"
      ]
     },
     "execution_count": 53,
     "metadata": {},
     "output_type": "execute_result"
    }
   ],
   "source": [
    "sleeptime"
   ]
  },
  {
   "cell_type": "markdown",
   "id": "4756255a",
   "metadata": {},
   "source": [
    "A nice-looking table has been output.<br>\n",
    "We'll work on this data and explore the features of pandas!<br>\n",
    "<br>\n",
    "## Retrieve columns using Brackets\n",
    "First thing to do is to retrieve specific column from this table.<br>\n",
    "```pandas``` works just like dictionary. See the follwing code.\n",
    "```python\n",
    "print(sleeptime[\"name\"])\n",
    "```\n",
    "This code will retrieve \"name\" column from ```sleeptime```."
   ]
  },
  {
   "cell_type": "code",
   "execution_count": 54,
   "id": "8a671b8b",
   "metadata": {},
   "outputs": [
    {
     "name": "stdout",
     "output_type": "stream",
     "text": [
      "0       Alice\n",
      "1         Bob\n",
      "2    Isabella\n",
      "3      Olivia\n",
      "4      Arthur\n",
      "5        Owen\n",
      "Name: name, dtype: object\n"
     ]
    }
   ],
   "source": [
    "print(sleeptime[\"name\"])"
   ]
  },
  {
   "cell_type": "markdown",
   "id": "f736a0be",
   "metadata": {},
   "source": [
    "When you want to retrieve two or more columns from pandas data(it is called dataframe), just put the list of columns' name inside the bracket.\n",
    "```python\n",
    "searchfor=[\"name\",\"gender\"]\n",
    "print(sleeptime[searchfor])\n",
    "```"
   ]
  },
  {
   "cell_type": "code",
   "execution_count": 55,
   "id": "c1b6d439",
   "metadata": {
    "scrolled": true
   },
   "outputs": [
    {
     "name": "stdout",
     "output_type": "stream",
     "text": [
      "       name gender\n",
      "0     Alice      F\n",
      "1       Bob      M\n",
      "2  Isabella      F\n",
      "3    Olivia      F\n",
      "4    Arthur      M\n",
      "5      Owen      M\n"
     ]
    }
   ],
   "source": [
    "searchfor=[\"name\",\"gender\"]\n",
    "print(sleeptime[searchfor])"
   ]
  },
  {
   "cell_type": "markdown",
   "id": "9b036a2c",
   "metadata": {},
   "source": [
    "## Retrieve rows and colums using ```.loc```\n",
    "When you want to retrieve rows, you need to use ```.loc```. <br>\n",
    "Using ```.loc```, you can specify row and column to retrieve.<br>\n",
    "Check out for the sample code below.\n",
    "```python\n",
    "print(sleeptime.loc[1,\"name\"])\n",
    "print(\"*****\")\n",
    "print(sleeptime.loc[1:4,\"name\"])\n",
    "print(\"*****\")\n",
    "print(sleeptime.loc[:, \"name\"])\n",
    "\n",
    "print(sleeptime.loc[1,searchfor])\n",
    "print(\"*****\")\n",
    "print(sleeptime.loc[1:4,searchfor])\n",
    "print(\"*****\")\n",
    "print(sleeptime.loc[:, searchfor])\n",
    "```"
   ]
  },
  {
   "cell_type": "code",
   "execution_count": 56,
   "id": "5cdeb9e4",
   "metadata": {},
   "outputs": [
    {
     "name": "stdout",
     "output_type": "stream",
     "text": [
      "Bob\n",
      "*****\n",
      "1         Bob\n",
      "2    Isabella\n",
      "3      Olivia\n",
      "4      Arthur\n",
      "Name: name, dtype: object\n",
      "*****\n",
      "0       Alice\n",
      "1         Bob\n",
      "2    Isabella\n",
      "3      Olivia\n",
      "4      Arthur\n",
      "5        Owen\n",
      "Name: name, dtype: object\n"
     ]
    }
   ],
   "source": [
    "print(sleeptime.loc[1,\"name\"])\n",
    "print(\"*****\")\n",
    "print(sleeptime.loc[1:4,\"name\"])\n",
    "print(\"*****\")\n",
    "print(sleeptime.loc[:, \"name\"])"
   ]
  },
  {
   "cell_type": "code",
   "execution_count": 57,
   "id": "efa0ca76",
   "metadata": {},
   "outputs": [
    {
     "name": "stdout",
     "output_type": "stream",
     "text": [
      "name      Bob\n",
      "gender      M\n",
      "Name: 1, dtype: object\n",
      "*****\n",
      "       name gender\n",
      "1       Bob      M\n",
      "2  Isabella      F\n",
      "3    Olivia      F\n",
      "4    Arthur      M\n",
      "*****\n",
      "       name gender\n",
      "0     Alice      F\n",
      "1       Bob      M\n",
      "2  Isabella      F\n",
      "3    Olivia      F\n",
      "4    Arthur      M\n",
      "5      Owen      M\n"
     ]
    }
   ],
   "source": [
    "print(sleeptime.loc[1,searchfor])\n",
    "print(\"*****\")\n",
    "print(sleeptime.loc[1:4,searchfor])\n",
    "print(\"*****\")\n",
    "print(sleeptime.loc[:, searchfor])"
   ]
  },
  {
   "cell_type": "markdown",
   "id": "9f3716b1",
   "metadata": {},
   "source": [
    "## Query-search\n",
    "```.query(condition)``` can search data that suits ```condition```.<br>\n",
    "In the following example, the query function searches for a row that suits ```sleepingTime <= 7```\n",
    "```python\n",
    "sleeptime.query(\"sleepingTime <= 7\")\n",
    "```"
   ]
  },
  {
   "cell_type": "code",
   "execution_count": 65,
   "id": "8811604d",
   "metadata": {},
   "outputs": [
    {
     "data": {
      "text/html": [
       "<div>\n",
       "<style scoped>\n",
       "    .dataframe tbody tr th:only-of-type {\n",
       "        vertical-align: middle;\n",
       "    }\n",
       "\n",
       "    .dataframe tbody tr th {\n",
       "        vertical-align: top;\n",
       "    }\n",
       "\n",
       "    .dataframe thead th {\n",
       "        text-align: right;\n",
       "    }\n",
       "</style>\n",
       "<table border=\"1\" class=\"dataframe\">\n",
       "  <thead>\n",
       "    <tr style=\"text-align: right;\">\n",
       "      <th></th>\n",
       "      <th>name</th>\n",
       "      <th>gender</th>\n",
       "      <th>sleepingTime</th>\n",
       "    </tr>\n",
       "  </thead>\n",
       "  <tbody>\n",
       "    <tr>\n",
       "      <th>1</th>\n",
       "      <td>Bob</td>\n",
       "      <td>M</td>\n",
       "      <td>6.0</td>\n",
       "    </tr>\n",
       "    <tr>\n",
       "      <th>3</th>\n",
       "      <td>Olivia</td>\n",
       "      <td>F</td>\n",
       "      <td>6.5</td>\n",
       "    </tr>\n",
       "    <tr>\n",
       "      <th>4</th>\n",
       "      <td>Arthur</td>\n",
       "      <td>M</td>\n",
       "      <td>7.0</td>\n",
       "    </tr>\n",
       "  </tbody>\n",
       "</table>\n",
       "</div>"
      ],
      "text/plain": [
       "     name gender  sleepingTime\n",
       "1     Bob      M           6.0\n",
       "3  Olivia      F           6.5\n",
       "4  Arthur      M           7.0"
      ]
     },
     "execution_count": 65,
     "metadata": {},
     "output_type": "execute_result"
    }
   ],
   "source": [
    "sleeptime.query(\"sleepingTime <= 7\")"
   ]
  },
  {
   "cell_type": "markdown",
   "id": "da27ad54",
   "metadata": {},
   "source": [
    "Next thing to do is conditioning according to gender.<br>\n",
    "In the following code, query function searches for data about male.<br>\n",
    "Note that you are not allowed to write ```\"gender==M\"``` nor ```\"gender==\"M\"\"```. The correct way is ```\"gender=='M'\"```.\n",
    "```python\n",
    "sleeptime.query(\"gender=='M'\")\n",
    "```"
   ]
  },
  {
   "cell_type": "code",
   "execution_count": 67,
   "id": "b5959257",
   "metadata": {
    "scrolled": true
   },
   "outputs": [
    {
     "data": {
      "text/html": [
       "<div>\n",
       "<style scoped>\n",
       "    .dataframe tbody tr th:only-of-type {\n",
       "        vertical-align: middle;\n",
       "    }\n",
       "\n",
       "    .dataframe tbody tr th {\n",
       "        vertical-align: top;\n",
       "    }\n",
       "\n",
       "    .dataframe thead th {\n",
       "        text-align: right;\n",
       "    }\n",
       "</style>\n",
       "<table border=\"1\" class=\"dataframe\">\n",
       "  <thead>\n",
       "    <tr style=\"text-align: right;\">\n",
       "      <th></th>\n",
       "      <th>name</th>\n",
       "      <th>gender</th>\n",
       "      <th>sleepingTime</th>\n",
       "    </tr>\n",
       "  </thead>\n",
       "  <tbody>\n",
       "    <tr>\n",
       "      <th>1</th>\n",
       "      <td>Bob</td>\n",
       "      <td>M</td>\n",
       "      <td>6.0</td>\n",
       "    </tr>\n",
       "    <tr>\n",
       "      <th>4</th>\n",
       "      <td>Arthur</td>\n",
       "      <td>M</td>\n",
       "      <td>7.0</td>\n",
       "    </tr>\n",
       "    <tr>\n",
       "      <th>5</th>\n",
       "      <td>Owen</td>\n",
       "      <td>M</td>\n",
       "      <td>7.5</td>\n",
       "    </tr>\n",
       "  </tbody>\n",
       "</table>\n",
       "</div>"
      ],
      "text/plain": [
       "     name gender  sleepingTime\n",
       "1     Bob      M           6.0\n",
       "4  Arthur      M           7.0\n",
       "5    Owen      M           7.5"
      ]
     },
     "execution_count": 67,
     "metadata": {},
     "output_type": "execute_result"
    }
   ],
   "source": [
    "sleeptime.query(\"gender=='M'\")"
   ]
  },
  {
   "cell_type": "markdown",
   "id": "b9f16df5",
   "metadata": {},
   "source": [
    "You can use ```and```, ```or``` ket word just like in if-statement.\n",
    "```python\n",
    "print(sleeptime.query(\"sleepingTime<=7 or gender=='M'\"))\n",
    "\n",
    "print(sleeptime.query(\"sleepingTime<=7 and gender=='M'\"))\n",
    "```"
   ]
  },
  {
   "cell_type": "code",
   "execution_count": 68,
   "id": "62777940",
   "metadata": {},
   "outputs": [
    {
     "name": "stdout",
     "output_type": "stream",
     "text": [
      "     name gender  sleepingTime\n",
      "1     Bob      M           6.0\n",
      "3  Olivia      F           6.5\n",
      "4  Arthur      M           7.0\n",
      "5    Owen      M           7.5\n"
     ]
    }
   ],
   "source": [
    "print(sleeptime.query(\"sleepingTime<=7 or gender=='M'\"))"
   ]
  },
  {
   "cell_type": "code",
   "execution_count": 69,
   "id": "d5a9506d",
   "metadata": {},
   "outputs": [
    {
     "name": "stdout",
     "output_type": "stream",
     "text": [
      "     name gender  sleepingTime\n",
      "1     Bob      M           6.0\n",
      "4  Arthur      M           7.0\n"
     ]
    }
   ],
   "source": [
    "print(sleeptime.query(\"sleepingTime<=7 and gender=='M'\"))"
   ]
  },
  {
   "cell_type": "code",
   "execution_count": null,
   "id": "37f1efb1",
   "metadata": {},
   "outputs": [],
   "source": []
  },
  {
   "cell_type": "code",
   "execution_count": null,
   "id": "51b1ffb0",
   "metadata": {},
   "outputs": [],
   "source": []
  },
  {
   "cell_type": "code",
   "execution_count": null,
   "id": "6f78e1d1",
   "metadata": {},
   "outputs": [],
   "source": []
  }
 ],
 "metadata": {
  "kernelspec": {
   "display_name": "Python 3 (ipykernel)",
   "language": "python",
   "name": "python3"
  },
  "language_info": {
   "codemirror_mode": {
    "name": "ipython",
    "version": 3
   },
   "file_extension": ".py",
   "mimetype": "text/x-python",
   "name": "python",
   "nbconvert_exporter": "python",
   "pygments_lexer": "ipython3",
   "version": "3.7.9"
  }
 },
 "nbformat": 4,
 "nbformat_minor": 5
}
